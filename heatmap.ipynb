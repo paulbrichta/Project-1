{
 "cells": [
  {
   "cell_type": "code",
   "execution_count": 41,
   "metadata": {},
   "outputs": [],
   "source": [
    "import gmaps\n",
    "import pandas as pd\n",
    "\n",
    "\n",
    "# Google developer API key\n",
    "from config import gkey\n",
    "\n",
    "# Configure gmaps\n",
    "gmaps.configure(api_key=gkey)"
   ]
  },
  {
   "cell_type": "code",
   "execution_count": 34,
   "metadata": {},
   "outputs": [
    {
     "data": {
      "text/html": [
       "<div>\n",
       "<style scoped>\n",
       "    .dataframe tbody tr th:only-of-type {\n",
       "        vertical-align: middle;\n",
       "    }\n",
       "\n",
       "    .dataframe tbody tr th {\n",
       "        vertical-align: top;\n",
       "    }\n",
       "\n",
       "    .dataframe thead th {\n",
       "        text-align: right;\n",
       "    }\n",
       "</style>\n",
       "<table border=\"1\" class=\"dataframe\">\n",
       "  <thead>\n",
       "    <tr style=\"text-align: right;\">\n",
       "      <th></th>\n",
       "      <th>Unnamed: 0</th>\n",
       "      <th>id</th>\n",
       "      <th>name</th>\n",
       "      <th>city</th>\n",
       "      <th>state_x</th>\n",
       "      <th>zip</th>\n",
       "      <th>holeCount</th>\n",
       "      <th>rating</th>\n",
       "      <th>latitude</th>\n",
       "      <th>longitude</th>\n",
       "      <th>Modified</th>\n",
       "      <th>Comments</th>\n",
       "      <th>state_y</th>\n",
       "      <th>zipcode</th>\n",
       "      <th>total_pop</th>\n",
       "      <th>total_income</th>\n",
       "      <th>country</th>\n",
       "      <th>avg_income</th>\n",
       "    </tr>\n",
       "  </thead>\n",
       "  <tbody>\n",
       "    <tr>\n",
       "      <th>6</th>\n",
       "      <td>6</td>\n",
       "      <td>dublin-park</td>\n",
       "      <td>Dublin Park</td>\n",
       "      <td>Madison</td>\n",
       "      <td>Alabama</td>\n",
       "      <td>35758</td>\n",
       "      <td>9</td>\n",
       "      <td>2.0</td>\n",
       "      <td>34.709355</td>\n",
       "      <td>-86.735166</td>\n",
       "      <td>no</td>\n",
       "      <td>none</td>\n",
       "      <td>AL</td>\n",
       "      <td>35758</td>\n",
       "      <td>21560</td>\n",
       "      <td>2066909</td>\n",
       "      <td>USA</td>\n",
       "      <td>95867.764378</td>\n",
       "    </tr>\n",
       "    <tr>\n",
       "      <th>8</th>\n",
       "      <td>8</td>\n",
       "      <td>sportsplex</td>\n",
       "      <td>Sportsplex</td>\n",
       "      <td>Athens</td>\n",
       "      <td>Alabama</td>\n",
       "      <td>35611</td>\n",
       "      <td>19</td>\n",
       "      <td>4.0</td>\n",
       "      <td>34.814459</td>\n",
       "      <td>-86.941128</td>\n",
       "      <td>no</td>\n",
       "      <td>none</td>\n",
       "      <td>AL</td>\n",
       "      <td>35611</td>\n",
       "      <td>10330</td>\n",
       "      <td>514537</td>\n",
       "      <td>USA</td>\n",
       "      <td>49809.970958</td>\n",
       "    </tr>\n",
       "    <tr>\n",
       "      <th>11</th>\n",
       "      <td>11</td>\n",
       "      <td>langan-municipal-park</td>\n",
       "      <td>Langan Municipal Park</td>\n",
       "      <td>Mobile</td>\n",
       "      <td>Alabama</td>\n",
       "      <td>36608</td>\n",
       "      <td>19</td>\n",
       "      <td>3.0</td>\n",
       "      <td>30.706208</td>\n",
       "      <td>-88.159632</td>\n",
       "      <td>no</td>\n",
       "      <td>none</td>\n",
       "      <td>AL</td>\n",
       "      <td>36608</td>\n",
       "      <td>15650</td>\n",
       "      <td>1313695</td>\n",
       "      <td>USA</td>\n",
       "      <td>83942.172524</td>\n",
       "    </tr>\n",
       "    <tr>\n",
       "      <th>15</th>\n",
       "      <td>15</td>\n",
       "      <td>bowers-park</td>\n",
       "      <td>Bowers Park</td>\n",
       "      <td>Tuscaloosa</td>\n",
       "      <td>Alabama</td>\n",
       "      <td>35405</td>\n",
       "      <td>18</td>\n",
       "      <td>4.0</td>\n",
       "      <td>33.177104</td>\n",
       "      <td>-87.511381</td>\n",
       "      <td>no</td>\n",
       "      <td>none</td>\n",
       "      <td>AL</td>\n",
       "      <td>35405</td>\n",
       "      <td>18530</td>\n",
       "      <td>928260</td>\n",
       "      <td>USA</td>\n",
       "      <td>50094.981112</td>\n",
       "    </tr>\n",
       "    <tr>\n",
       "      <th>16</th>\n",
       "      <td>16</td>\n",
       "      <td>brahan-springs-park</td>\n",
       "      <td>Brahan Springs Park</td>\n",
       "      <td>Huntsville</td>\n",
       "      <td>Alabama</td>\n",
       "      <td>35805</td>\n",
       "      <td>18</td>\n",
       "      <td>3.0</td>\n",
       "      <td>34.705318</td>\n",
       "      <td>-86.600321</td>\n",
       "      <td>no</td>\n",
       "      <td>none</td>\n",
       "      <td>AL</td>\n",
       "      <td>35805</td>\n",
       "      <td>7820</td>\n",
       "      <td>218090</td>\n",
       "      <td>USA</td>\n",
       "      <td>27888.746803</td>\n",
       "    </tr>\n",
       "  </tbody>\n",
       "</table>\n",
       "</div>"
      ],
      "text/plain": [
       "    Unnamed: 0                     id                   name         city  \\\n",
       "6            6            dublin-park            Dublin Park     Madison    \n",
       "8            8             sportsplex             Sportsplex      Athens    \n",
       "11          11  langan-municipal-park  Langan Municipal Park      Mobile    \n",
       "15          15            bowers-park            Bowers Park  Tuscaloosa    \n",
       "16          16    brahan-springs-park    Brahan Springs Park  Huntsville    \n",
       "\n",
       "    state_x    zip  holeCount  rating   latitude  longitude Modified Comments  \\\n",
       "6   Alabama  35758          9     2.0  34.709355 -86.735166       no     none   \n",
       "8   Alabama  35611         19     4.0  34.814459 -86.941128       no     none   \n",
       "11  Alabama  36608         19     3.0  30.706208 -88.159632       no     none   \n",
       "15  Alabama  35405         18     4.0  33.177104 -87.511381       no     none   \n",
       "16  Alabama  35805         18     3.0  34.705318 -86.600321       no     none   \n",
       "\n",
       "   state_y  zipcode  total_pop  total_income country    avg_income  \n",
       "6       AL    35758      21560       2066909     USA  95867.764378  \n",
       "8       AL    35611      10330        514537     USA  49809.970958  \n",
       "11      AL    36608      15650       1313695     USA  83942.172524  \n",
       "15      AL    35405      18530        928260     USA  50094.981112  \n",
       "16      AL    35805       7820        218090     USA  27888.746803  "
      ]
     },
     "execution_count": 34,
     "metadata": {},
     "output_type": "execute_result"
    }
   ],
   "source": [
    "# Create courses dataframe\n",
    "courses_df = pd.read_csv('./Resources/draft_dgolf_avincome.csv')\n",
    "courses_df.dropna(inplace = True) \n",
    "courses_df.head()"
   ]
  },
  {
   "cell_type": "code",
   "execution_count": 10,
   "metadata": {},
   "outputs": [],
   "source": [
    "# Store latitude and longitude in locations\n",
    "locations = courses_df[[\"latitude\", \"longitude\"]]\n"
   ]
  },
  {
   "cell_type": "code",
   "execution_count": 35,
   "metadata": {},
   "outputs": [],
   "source": [
    "# Customize the size of the figure\n",
    "figure_layout = {\n",
    "    'width': '400px',\n",
    "    'height': '300px',\n",
    "    'border': '1px solid black',\n",
    "    'padding': '1px',\n",
    "    'margin': '0 auto 0 auto'\n",
    "}\n",
    "fig = gmaps.figure(layout=figure_layout)"
   ]
  },
  {
   "cell_type": "code",
   "execution_count": 36,
   "metadata": {},
   "outputs": [
    {
     "data": {
      "application/vnd.jupyter.widget-view+json": {
       "model_id": "bf0b03febc15422e989c07dd82e3eb0d",
       "version_major": 2,
       "version_minor": 0
      },
      "text/plain": [
       "Figure(layout=FigureLayout(border='1px solid black', height='300px', margin='0 auto 0 auto', padding='1px', wi…"
      ]
     },
     "metadata": {},
     "output_type": "display_data"
    }
   ],
   "source": [
    "# Assign the marker layer to a variable\n",
    "markers = gmaps.marker_layer(locations)\n",
    "# Add the layer to the map\n",
    "fig.add_layer(markers)\n",
    "fig"
   ]
  },
  {
   "cell_type": "code",
   "execution_count": 37,
   "metadata": {},
   "outputs": [],
   "source": [
    "Holes = courses_df[\"holeCount\"].astype(float)"
   ]
  },
  {
   "cell_type": "code",
   "execution_count": 38,
   "metadata": {},
   "outputs": [],
   "source": [
    "# Plot Heatmap\n",
    "fig = gmaps.figure()\n",
    "coordinates = [\n",
    "    (40.71, -74.00),\n",
    "    (30.26, -97.74),\n",
    "    (46.87, -96.78),\n",
    "    (47.60, -122.33),\n",
    "    (32.71, -117.16)\n",
    "]\n",
    "markers = gmaps.marker_layer(coordinates)"
   ]
  },
  {
   "cell_type": "code",
   "execution_count": 29,
   "metadata": {},
   "outputs": [],
   "source": [
    "\n",
    "# Add the layer to the map\n"
   ]
  },
  {
   "cell_type": "code",
   "execution_count": 30,
   "metadata": {},
   "outputs": [],
   "source": [
    "# Create heat layer\n",
    "heat_layer = gmaps.heatmap_layer(locations, weights=Holes, \n",
    "                                 dissipating=False, max_intensity=30,\n",
    "                                 point_radius=1)"
   ]
  },
  {
   "cell_type": "code",
   "execution_count": 31,
   "metadata": {},
   "outputs": [
    {
     "data": {
      "application/vnd.jupyter.widget-view+json": {
       "model_id": "7bbb97b7161e47668d2e69fecff39767",
       "version_major": 2,
       "version_minor": 0
      },
      "text/plain": [
       "Figure(layout=FigureLayout(height='420px'))"
      ]
     },
     "metadata": {},
     "output_type": "display_data"
    }
   ],
   "source": [
    "# Add layer\n",
    "fig.add_layer(heat_layer)\n",
    "# Display figure\n",
    "fig\n"
   ]
  },
  {
   "cell_type": "code",
   "execution_count": null,
   "metadata": {},
   "outputs": [],
   "source": []
  }
 ],
 "metadata": {
  "kernelspec": {
   "display_name": "Python 3.6.10 ('Pythondata')",
   "language": "python",
   "name": "python3"
  },
  "language_info": {
   "codemirror_mode": {
    "name": "ipython",
    "version": 3
   },
   "file_extension": ".py",
   "mimetype": "text/x-python",
   "name": "python",
   "nbconvert_exporter": "python",
   "pygments_lexer": "ipython3",
   "version": "3.6.10"
  },
  "orig_nbformat": 4,
  "vscode": {
   "interpreter": {
    "hash": "35fc9a0f95dc31633c4fee4c80771a59cf73a801e772266004d70b9ea82d1791"
   }
  }
 },
 "nbformat": 4,
 "nbformat_minor": 2
}
