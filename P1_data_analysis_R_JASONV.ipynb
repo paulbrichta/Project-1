{
 "cells": [
  {
   "cell_type": "markdown",
   "metadata": {},
   "source": [
    "# Project 1\n",
    "\n",
    "The purpose of this notebook to document preliminary analyses of DiscGolf to average income.\n",
    "\n",
    "DiscGolf.csv was sourced from https://www.kaggle.com/datasets/lanekatris/pdga-united-states-disc-golf-courses\n",
    "\n",
    "postcode_level_averages was sourced from https://www.kaggle.com/datasets/hamishgunasekara/average-income-per-zip-code-usa-2018\n",
    "\n",
    "Data joined and saved to the Resources folder as \"draft_dgolf_avincome.csv\"\n"
   ]
  },
  {
   "cell_type": "code",
   "execution_count": 1,
   "metadata": {},
   "outputs": [],
   "source": [
    "#Import dependencies\n",
    "import pandas as pd\n",
    "import numpy as np\n",
    "import matplotlib as plt\n",
    "import requests\n",
    "import json\n",
    "from scipy.stats import linregress\n",
    "import datetime"
   ]
  },
  {
   "cell_type": "code",
   "execution_count": 2,
   "metadata": {},
   "outputs": [],
   "source": [
    "#read CSV and create Pandas DataFrames\n",
    "draftdf = pd.DataFrame(pd.read_csv('Resources/draft_dgolf_avincome.csv'))"
   ]
  },
  {
   "cell_type": "code",
   "execution_count": 3,
   "metadata": {},
   "outputs": [
    {
     "data": {
      "text/html": [
       "<div>\n",
       "<style scoped>\n",
       "    .dataframe tbody tr th:only-of-type {\n",
       "        vertical-align: middle;\n",
       "    }\n",
       "\n",
       "    .dataframe tbody tr th {\n",
       "        vertical-align: top;\n",
       "    }\n",
       "\n",
       "    .dataframe thead th {\n",
       "        text-align: right;\n",
       "    }\n",
       "</style>\n",
       "<table border=\"1\" class=\"dataframe\">\n",
       "  <thead>\n",
       "    <tr style=\"text-align: right;\">\n",
       "      <th></th>\n",
       "      <th>Unnamed: 0</th>\n",
       "      <th>id</th>\n",
       "      <th>name</th>\n",
       "      <th>city</th>\n",
       "      <th>state_x</th>\n",
       "      <th>zip</th>\n",
       "      <th>holeCount</th>\n",
       "      <th>rating</th>\n",
       "      <th>latitude</th>\n",
       "      <th>longitude</th>\n",
       "      <th>Modified</th>\n",
       "      <th>Comments</th>\n",
       "      <th>state_y</th>\n",
       "      <th>zipcode</th>\n",
       "      <th>total_pop</th>\n",
       "      <th>total_income</th>\n",
       "      <th>country</th>\n",
       "      <th>avg_income</th>\n",
       "    </tr>\n",
       "  </thead>\n",
       "  <tbody>\n",
       "    <tr>\n",
       "      <th>0</th>\n",
       "      <td>0</td>\n",
       "      <td>adventist-discovery-park</td>\n",
       "      <td>Adventist DISCovery Park</td>\n",
       "      <td>Opelika</td>\n",
       "      <td>Alabama</td>\n",
       "      <td>36804</td>\n",
       "      <td>3</td>\n",
       "      <td>NaN</td>\n",
       "      <td>32.645412</td>\n",
       "      <td>-85.378280</td>\n",
       "      <td>no</td>\n",
       "      <td>none</td>\n",
       "      <td>AL</td>\n",
       "      <td>36804</td>\n",
       "      <td>8240</td>\n",
       "      <td>417346</td>\n",
       "      <td>USA</td>\n",
       "      <td>50648.786408</td>\n",
       "    </tr>\n",
       "    <tr>\n",
       "      <th>1</th>\n",
       "      <td>1</td>\n",
       "      <td>agape-disc-golf-course</td>\n",
       "      <td>Agape Disc Golf Course</td>\n",
       "      <td>Scottsboro</td>\n",
       "      <td>Alabama</td>\n",
       "      <td>35769</td>\n",
       "      <td>9</td>\n",
       "      <td>NaN</td>\n",
       "      <td>34.622819</td>\n",
       "      <td>-86.080692</td>\n",
       "      <td>no</td>\n",
       "      <td>none</td>\n",
       "      <td>AL</td>\n",
       "      <td>35769</td>\n",
       "      <td>4170</td>\n",
       "      <td>316625</td>\n",
       "      <td>USA</td>\n",
       "      <td>75929.256595</td>\n",
       "    </tr>\n",
       "  </tbody>\n",
       "</table>\n",
       "</div>"
      ],
      "text/plain": [
       "   Unnamed: 0                        id                      name  \\\n",
       "0           0  adventist-discovery-park  Adventist DISCovery Park   \n",
       "1           1    agape-disc-golf-course    Agape Disc Golf Course   \n",
       "\n",
       "          city  state_x    zip  holeCount  rating   latitude  longitude  \\\n",
       "0     Opelika   Alabama  36804          3     NaN  32.645412 -85.378280   \n",
       "1  Scottsboro   Alabama  35769          9     NaN  34.622819 -86.080692   \n",
       "\n",
       "  Modified Comments state_y  zipcode  total_pop  total_income country  \\\n",
       "0       no     none      AL    36804       8240        417346     USA   \n",
       "1       no     none      AL    35769       4170        316625     USA   \n",
       "\n",
       "     avg_income  \n",
       "0  50648.786408  \n",
       "1  75929.256595  "
      ]
     },
     "execution_count": 3,
     "metadata": {},
     "output_type": "execute_result"
    }
   ],
   "source": [
    "#check df\n",
    "draftdf.head(2)"
   ]
  },
  {
   "cell_type": "code",
   "execution_count": 4,
   "metadata": {},
   "outputs": [],
   "source": [
    "#mergeall.plot.(x = '',y = 'total_pop',s = 50)"
   ]
  },
  {
   "cell_type": "code",
   "execution_count": 6,
   "metadata": {},
   "outputs": [
    {
     "data": {
      "text/html": [
       "<div>\n",
       "<style scoped>\n",
       "    .dataframe tbody tr th:only-of-type {\n",
       "        vertical-align: middle;\n",
       "    }\n",
       "\n",
       "    .dataframe tbody tr th {\n",
       "        vertical-align: top;\n",
       "    }\n",
       "\n",
       "    .dataframe thead th {\n",
       "        text-align: right;\n",
       "    }\n",
       "</style>\n",
       "<table border=\"1\" class=\"dataframe\">\n",
       "  <thead>\n",
       "    <tr style=\"text-align: right;\">\n",
       "      <th></th>\n",
       "      <th>total_pop</th>\n",
       "      <th>avg_income</th>\n",
       "      <th>n_courses</th>\n",
       "      <th>holeCount</th>\n",
       "      <th>rating</th>\n",
       "    </tr>\n",
       "    <tr>\n",
       "      <th>state_y</th>\n",
       "      <th></th>\n",
       "      <th></th>\n",
       "      <th></th>\n",
       "      <th></th>\n",
       "      <th></th>\n",
       "    </tr>\n",
       "  </thead>\n",
       "  <tbody>\n",
       "    <tr>\n",
       "      <th>AK</th>\n",
       "      <td>288780</td>\n",
       "      <td>74791.929935</td>\n",
       "      <td>31</td>\n",
       "      <td>13.451613</td>\n",
       "      <td>3.692308</td>\n",
       "    </tr>\n",
       "    <tr>\n",
       "      <th>AL</th>\n",
       "      <td>970510</td>\n",
       "      <td>60129.955845</td>\n",
       "      <td>121</td>\n",
       "      <td>15.438017</td>\n",
       "      <td>3.673913</td>\n",
       "    </tr>\n",
       "    <tr>\n",
       "      <th>AR</th>\n",
       "      <td>886250</td>\n",
       "      <td>55399.123422</td>\n",
       "      <td>109</td>\n",
       "      <td>13.981651</td>\n",
       "      <td>3.789474</td>\n",
       "    </tr>\n",
       "    <tr>\n",
       "      <th>AZ</th>\n",
       "      <td>994820</td>\n",
       "      <td>63961.727080</td>\n",
       "      <td>71</td>\n",
       "      <td>13.887324</td>\n",
       "      <td>3.410256</td>\n",
       "    </tr>\n",
       "    <tr>\n",
       "      <th>CA</th>\n",
       "      <td>4093380</td>\n",
       "      <td>75793.617001</td>\n",
       "      <td>309</td>\n",
       "      <td>14.239482</td>\n",
       "      <td>3.280000</td>\n",
       "    </tr>\n",
       "    <tr>\n",
       "      <th>CO</th>\n",
       "      <td>1879100</td>\n",
       "      <td>80219.338127</td>\n",
       "      <td>176</td>\n",
       "      <td>13.886364</td>\n",
       "      <td>3.277778</td>\n",
       "    </tr>\n",
       "    <tr>\n",
       "      <th>CT</th>\n",
       "      <td>330080</td>\n",
       "      <td>109678.582339</td>\n",
       "      <td>30</td>\n",
       "      <td>14.933333</td>\n",
       "      <td>3.611111</td>\n",
       "    </tr>\n",
       "    <tr>\n",
       "      <th>DE</th>\n",
       "      <td>178660</td>\n",
       "      <td>71301.197832</td>\n",
       "      <td>13</td>\n",
       "      <td>16.769231</td>\n",
       "      <td>3.000000</td>\n",
       "    </tr>\n",
       "    <tr>\n",
       "      <th>FL</th>\n",
       "      <td>2229570</td>\n",
       "      <td>71147.145914</td>\n",
       "      <td>178</td>\n",
       "      <td>14.471910</td>\n",
       "      <td>3.603774</td>\n",
       "    </tr>\n",
       "    <tr>\n",
       "      <th>GA</th>\n",
       "      <td>1757390</td>\n",
       "      <td>63097.464684</td>\n",
       "      <td>138</td>\n",
       "      <td>14.862319</td>\n",
       "      <td>3.588235</td>\n",
       "    </tr>\n",
       "    <tr>\n",
       "      <th>HI</th>\n",
       "      <td>108150</td>\n",
       "      <td>60827.755747</td>\n",
       "      <td>11</td>\n",
       "      <td>12.818182</td>\n",
       "      <td>4.666667</td>\n",
       "    </tr>\n",
       "    <tr>\n",
       "      <th>IA</th>\n",
       "      <td>1346220</td>\n",
       "      <td>66076.191609</td>\n",
       "      <td>287</td>\n",
       "      <td>11.668990</td>\n",
       "      <td>3.221053</td>\n",
       "    </tr>\n",
       "    <tr>\n",
       "      <th>ID</th>\n",
       "      <td>882470</td>\n",
       "      <td>65411.981714</td>\n",
       "      <td>99</td>\n",
       "      <td>12.868687</td>\n",
       "      <td>3.350000</td>\n",
       "    </tr>\n",
       "    <tr>\n",
       "      <th>IL</th>\n",
       "      <td>2729860</td>\n",
       "      <td>76785.410580</td>\n",
       "      <td>285</td>\n",
       "      <td>12.610526</td>\n",
       "      <td>3.084746</td>\n",
       "    </tr>\n",
       "    <tr>\n",
       "      <th>IN</th>\n",
       "      <td>1901680</td>\n",
       "      <td>61940.266185</td>\n",
       "      <td>185</td>\n",
       "      <td>14.821622</td>\n",
       "      <td>3.526316</td>\n",
       "    </tr>\n",
       "    <tr>\n",
       "      <th>KS</th>\n",
       "      <td>1440530</td>\n",
       "      <td>59990.129837</td>\n",
       "      <td>260</td>\n",
       "      <td>12.207692</td>\n",
       "      <td>3.370370</td>\n",
       "    </tr>\n",
       "    <tr>\n",
       "      <th>KY</th>\n",
       "      <td>1179610</td>\n",
       "      <td>54779.921308</td>\n",
       "      <td>113</td>\n",
       "      <td>15.292035</td>\n",
       "      <td>3.338462</td>\n",
       "    </tr>\n",
       "    <tr>\n",
       "      <th>LA</th>\n",
       "      <td>522550</td>\n",
       "      <td>62495.907920</td>\n",
       "      <td>56</td>\n",
       "      <td>15.267857</td>\n",
       "      <td>3.400000</td>\n",
       "    </tr>\n",
       "    <tr>\n",
       "      <th>MA</th>\n",
       "      <td>501090</td>\n",
       "      <td>89881.830978</td>\n",
       "      <td>60</td>\n",
       "      <td>15.250000</td>\n",
       "      <td>3.542857</td>\n",
       "    </tr>\n",
       "    <tr>\n",
       "      <th>MD</th>\n",
       "      <td>481640</td>\n",
       "      <td>79788.324256</td>\n",
       "      <td>50</td>\n",
       "      <td>14.840000</td>\n",
       "      <td>3.260870</td>\n",
       "    </tr>\n",
       "    <tr>\n",
       "      <th>ME</th>\n",
       "      <td>335500</td>\n",
       "      <td>59570.185714</td>\n",
       "      <td>74</td>\n",
       "      <td>16.148649</td>\n",
       "      <td>3.468750</td>\n",
       "    </tr>\n",
       "    <tr>\n",
       "      <th>MI</th>\n",
       "      <td>2712540</td>\n",
       "      <td>65157.653139</td>\n",
       "      <td>300</td>\n",
       "      <td>15.246667</td>\n",
       "      <td>3.713043</td>\n",
       "    </tr>\n",
       "    <tr>\n",
       "      <th>MN</th>\n",
       "      <td>2365280</td>\n",
       "      <td>69054.948215</td>\n",
       "      <td>339</td>\n",
       "      <td>11.265487</td>\n",
       "      <td>3.093750</td>\n",
       "    </tr>\n",
       "    <tr>\n",
       "      <th>MO</th>\n",
       "      <td>1762390</td>\n",
       "      <td>58524.152347</td>\n",
       "      <td>185</td>\n",
       "      <td>13.875676</td>\n",
       "      <td>3.718310</td>\n",
       "    </tr>\n",
       "    <tr>\n",
       "      <th>MS</th>\n",
       "      <td>636760</td>\n",
       "      <td>52094.057529</td>\n",
       "      <td>88</td>\n",
       "      <td>15.375000</td>\n",
       "      <td>3.400000</td>\n",
       "    </tr>\n",
       "    <tr>\n",
       "      <th>MT</th>\n",
       "      <td>416980</td>\n",
       "      <td>67112.388432</td>\n",
       "      <td>59</td>\n",
       "      <td>14.389831</td>\n",
       "      <td>3.523810</td>\n",
       "    </tr>\n",
       "    <tr>\n",
       "      <th>NC</th>\n",
       "      <td>3199590</td>\n",
       "      <td>64588.386519</td>\n",
       "      <td>273</td>\n",
       "      <td>14.739927</td>\n",
       "      <td>3.364341</td>\n",
       "    </tr>\n",
       "    <tr>\n",
       "      <th>ND</th>\n",
       "      <td>478900</td>\n",
       "      <td>72625.108754</td>\n",
       "      <td>60</td>\n",
       "      <td>11.016667</td>\n",
       "      <td>3.833333</td>\n",
       "    </tr>\n",
       "    <tr>\n",
       "      <th>NE</th>\n",
       "      <td>514590</td>\n",
       "      <td>60920.892644</td>\n",
       "      <td>110</td>\n",
       "      <td>10.736364</td>\n",
       "      <td>2.907407</td>\n",
       "    </tr>\n",
       "    <tr>\n",
       "      <th>NH</th>\n",
       "      <td>155490</td>\n",
       "      <td>83744.914772</td>\n",
       "      <td>32</td>\n",
       "      <td>15.781250</td>\n",
       "      <td>3.647059</td>\n",
       "    </tr>\n",
       "    <tr>\n",
       "      <th>NJ</th>\n",
       "      <td>489430</td>\n",
       "      <td>107111.459418</td>\n",
       "      <td>40</td>\n",
       "      <td>13.725000</td>\n",
       "      <td>3.375000</td>\n",
       "    </tr>\n",
       "    <tr>\n",
       "      <th>NM</th>\n",
       "      <td>486430</td>\n",
       "      <td>59271.861236</td>\n",
       "      <td>48</td>\n",
       "      <td>14.708333</td>\n",
       "      <td>3.125000</td>\n",
       "    </tr>\n",
       "    <tr>\n",
       "      <th>NV</th>\n",
       "      <td>458100</td>\n",
       "      <td>90855.067838</td>\n",
       "      <td>35</td>\n",
       "      <td>14.342857</td>\n",
       "      <td>3.722222</td>\n",
       "    </tr>\n",
       "    <tr>\n",
       "      <th>NY</th>\n",
       "      <td>932840</td>\n",
       "      <td>70437.625803</td>\n",
       "      <td>136</td>\n",
       "      <td>14.727941</td>\n",
       "      <td>3.113208</td>\n",
       "    </tr>\n",
       "    <tr>\n",
       "      <th>OH</th>\n",
       "      <td>2996830</td>\n",
       "      <td>62465.203712</td>\n",
       "      <td>260</td>\n",
       "      <td>13.792308</td>\n",
       "      <td>3.062937</td>\n",
       "    </tr>\n",
       "    <tr>\n",
       "      <th>OK</th>\n",
       "      <td>1256740</td>\n",
       "      <td>56919.647697</td>\n",
       "      <td>165</td>\n",
       "      <td>13.127273</td>\n",
       "      <td>3.129630</td>\n",
       "    </tr>\n",
       "    <tr>\n",
       "      <th>OR</th>\n",
       "      <td>1134120</td>\n",
       "      <td>65523.284153</td>\n",
       "      <td>143</td>\n",
       "      <td>13.475524</td>\n",
       "      <td>3.293333</td>\n",
       "    </tr>\n",
       "    <tr>\n",
       "      <th>PA</th>\n",
       "      <td>1881090</td>\n",
       "      <td>72327.360693</td>\n",
       "      <td>202</td>\n",
       "      <td>14.133663</td>\n",
       "      <td>3.389474</td>\n",
       "    </tr>\n",
       "    <tr>\n",
       "      <th>RI</th>\n",
       "      <td>40480</td>\n",
       "      <td>75712.363746</td>\n",
       "      <td>4</td>\n",
       "      <td>18.000000</td>\n",
       "      <td>3.500000</td>\n",
       "    </tr>\n",
       "    <tr>\n",
       "      <th>SC</th>\n",
       "      <td>1674680</td>\n",
       "      <td>63733.538516</td>\n",
       "      <td>122</td>\n",
       "      <td>13.770492</td>\n",
       "      <td>3.274194</td>\n",
       "    </tr>\n",
       "    <tr>\n",
       "      <th>SD</th>\n",
       "      <td>425440</td>\n",
       "      <td>64898.896932</td>\n",
       "      <td>74</td>\n",
       "      <td>11.391892</td>\n",
       "      <td>3.266667</td>\n",
       "    </tr>\n",
       "    <tr>\n",
       "      <th>TN</th>\n",
       "      <td>1785560</td>\n",
       "      <td>61614.344152</td>\n",
       "      <td>155</td>\n",
       "      <td>14.083871</td>\n",
       "      <td>3.419753</td>\n",
       "    </tr>\n",
       "    <tr>\n",
       "      <th>TX</th>\n",
       "      <td>6156110</td>\n",
       "      <td>73725.588366</td>\n",
       "      <td>464</td>\n",
       "      <td>13.896552</td>\n",
       "      <td>3.398936</td>\n",
       "    </tr>\n",
       "    <tr>\n",
       "      <th>UT</th>\n",
       "      <td>808780</td>\n",
       "      <td>70736.781258</td>\n",
       "      <td>72</td>\n",
       "      <td>13.472222</td>\n",
       "      <td>3.463415</td>\n",
       "    </tr>\n",
       "    <tr>\n",
       "      <th>VA</th>\n",
       "      <td>1380780</td>\n",
       "      <td>72861.719359</td>\n",
       "      <td>131</td>\n",
       "      <td>14.725191</td>\n",
       "      <td>3.439394</td>\n",
       "    </tr>\n",
       "    <tr>\n",
       "      <th>VT</th>\n",
       "      <td>111920</td>\n",
       "      <td>67267.081015</td>\n",
       "      <td>43</td>\n",
       "      <td>15.976744</td>\n",
       "      <td>3.700000</td>\n",
       "    </tr>\n",
       "    <tr>\n",
       "      <th>WA</th>\n",
       "      <td>1399470</td>\n",
       "      <td>76454.960721</td>\n",
       "      <td>128</td>\n",
       "      <td>13.539062</td>\n",
       "      <td>3.327586</td>\n",
       "    </tr>\n",
       "    <tr>\n",
       "      <th>WI</th>\n",
       "      <td>2489580</td>\n",
       "      <td>66144.270928</td>\n",
       "      <td>344</td>\n",
       "      <td>12.281977</td>\n",
       "      <td>3.550388</td>\n",
       "    </tr>\n",
       "    <tr>\n",
       "      <th>WV</th>\n",
       "      <td>294560</td>\n",
       "      <td>57620.272522</td>\n",
       "      <td>64</td>\n",
       "      <td>15.437500</td>\n",
       "      <td>3.545455</td>\n",
       "    </tr>\n",
       "    <tr>\n",
       "      <th>WY</th>\n",
       "      <td>291970</td>\n",
       "      <td>80759.996364</td>\n",
       "      <td>38</td>\n",
       "      <td>13.078947</td>\n",
       "      <td>3.181818</td>\n",
       "    </tr>\n",
       "  </tbody>\n",
       "</table>\n",
       "</div>"
      ],
      "text/plain": [
       "         total_pop     avg_income  n_courses  holeCount    rating\n",
       "state_y                                                          \n",
       "AK          288780   74791.929935         31  13.451613  3.692308\n",
       "AL          970510   60129.955845        121  15.438017  3.673913\n",
       "AR          886250   55399.123422        109  13.981651  3.789474\n",
       "AZ          994820   63961.727080         71  13.887324  3.410256\n",
       "CA         4093380   75793.617001        309  14.239482  3.280000\n",
       "CO         1879100   80219.338127        176  13.886364  3.277778\n",
       "CT          330080  109678.582339         30  14.933333  3.611111\n",
       "DE          178660   71301.197832         13  16.769231  3.000000\n",
       "FL         2229570   71147.145914        178  14.471910  3.603774\n",
       "GA         1757390   63097.464684        138  14.862319  3.588235\n",
       "HI          108150   60827.755747         11  12.818182  4.666667\n",
       "IA         1346220   66076.191609        287  11.668990  3.221053\n",
       "ID          882470   65411.981714         99  12.868687  3.350000\n",
       "IL         2729860   76785.410580        285  12.610526  3.084746\n",
       "IN         1901680   61940.266185        185  14.821622  3.526316\n",
       "KS         1440530   59990.129837        260  12.207692  3.370370\n",
       "KY         1179610   54779.921308        113  15.292035  3.338462\n",
       "LA          522550   62495.907920         56  15.267857  3.400000\n",
       "MA          501090   89881.830978         60  15.250000  3.542857\n",
       "MD          481640   79788.324256         50  14.840000  3.260870\n",
       "ME          335500   59570.185714         74  16.148649  3.468750\n",
       "MI         2712540   65157.653139        300  15.246667  3.713043\n",
       "MN         2365280   69054.948215        339  11.265487  3.093750\n",
       "MO         1762390   58524.152347        185  13.875676  3.718310\n",
       "MS          636760   52094.057529         88  15.375000  3.400000\n",
       "MT          416980   67112.388432         59  14.389831  3.523810\n",
       "NC         3199590   64588.386519        273  14.739927  3.364341\n",
       "ND          478900   72625.108754         60  11.016667  3.833333\n",
       "NE          514590   60920.892644        110  10.736364  2.907407\n",
       "NH          155490   83744.914772         32  15.781250  3.647059\n",
       "NJ          489430  107111.459418         40  13.725000  3.375000\n",
       "NM          486430   59271.861236         48  14.708333  3.125000\n",
       "NV          458100   90855.067838         35  14.342857  3.722222\n",
       "NY          932840   70437.625803        136  14.727941  3.113208\n",
       "OH         2996830   62465.203712        260  13.792308  3.062937\n",
       "OK         1256740   56919.647697        165  13.127273  3.129630\n",
       "OR         1134120   65523.284153        143  13.475524  3.293333\n",
       "PA         1881090   72327.360693        202  14.133663  3.389474\n",
       "RI           40480   75712.363746          4  18.000000  3.500000\n",
       "SC         1674680   63733.538516        122  13.770492  3.274194\n",
       "SD          425440   64898.896932         74  11.391892  3.266667\n",
       "TN         1785560   61614.344152        155  14.083871  3.419753\n",
       "TX         6156110   73725.588366        464  13.896552  3.398936\n",
       "UT          808780   70736.781258         72  13.472222  3.463415\n",
       "VA         1380780   72861.719359        131  14.725191  3.439394\n",
       "VT          111920   67267.081015         43  15.976744  3.700000\n",
       "WA         1399470   76454.960721        128  13.539062  3.327586\n",
       "WI         2489580   66144.270928        344  12.281977  3.550388\n",
       "WV          294560   57620.272522         64  15.437500  3.545455\n",
       "WY          291970   80759.996364         38  13.078947  3.181818"
      ]
     },
     "execution_count": 6,
     "metadata": {},
     "output_type": "execute_result"
    }
   ],
   "source": [
    "#create summary by state:  of number of courses, total population, average income, course rating\n",
    "\n",
    "subdraftdf = draftdf[['state_y','total_pop','avg_income','holeCount','rating']]\n",
    "subdraftdf.head()\n",
    "groupdf= subdraftdf.groupby(['state_y'])\n",
    "\n",
    "ltotpop = [groupdf['total_pop'].sum()]\n",
    "lavinc = [groupdf['avg_income'].mean()]\n",
    "lavholes = [groupdf['holeCount'].mean()]\n",
    "lavrating = [groupdf['rating'].mean()]\n",
    "ltotcourses = [groupdf['holeCount'].count()]\n",
    "\n",
    "totpop = pd.DataFrame(ltotpop).transpose()\n",
    "avinc = pd.DataFrame(lavinc).transpose()\n",
    "avholes = pd.DataFrame(lavholes).transpose()\n",
    "avrating = pd.DataFrame(lavrating).transpose()\n",
    "totcourses = pd.DataFrame(ltotcourses).transpose()\n",
    "\n",
    "\n",
    "merge12 = pd.merge(totpop,avinc,on='state_y')\n",
    "merge34 = pd.merge(avholes,avrating,on='state_y')\n",
    "merge12nmore = pd.merge(merge12,totcourses,on='state_y').rename(columns = {\"holeCount\":\"n_courses\"})\n",
    "merge12nmore\n",
    "mergeall = pd.merge(merge12nmore,merge34,on='state_y')\n",
    "mergeall\n"
   ]
  },
  {
   "cell_type": "code",
   "execution_count": 7,
   "metadata": {},
   "outputs": [],
   "source": [
    "import plotly.express as px"
   ]
  },
  {
   "cell_type": "code",
   "execution_count": 10,
   "metadata": {},
   "outputs": [
    {
     "data": {
      "text/html": [
       "<div>\n",
       "<style scoped>\n",
       "    .dataframe tbody tr th:only-of-type {\n",
       "        vertical-align: middle;\n",
       "    }\n",
       "\n",
       "    .dataframe tbody tr th {\n",
       "        vertical-align: top;\n",
       "    }\n",
       "\n",
       "    .dataframe thead th {\n",
       "        text-align: right;\n",
       "    }\n",
       "</style>\n",
       "<table border=\"1\" class=\"dataframe\">\n",
       "  <thead>\n",
       "    <tr style=\"text-align: right;\">\n",
       "      <th></th>\n",
       "      <th>state_y</th>\n",
       "      <th>total_pop</th>\n",
       "      <th>avg_income</th>\n",
       "      <th>n_courses</th>\n",
       "      <th>holeCount</th>\n",
       "      <th>rating</th>\n",
       "    </tr>\n",
       "  </thead>\n",
       "  <tbody>\n",
       "    <tr>\n",
       "      <th>0</th>\n",
       "      <td>AK</td>\n",
       "      <td>288780</td>\n",
       "      <td>74791.929935</td>\n",
       "      <td>31</td>\n",
       "      <td>13.451613</td>\n",
       "      <td>3.692308</td>\n",
       "    </tr>\n",
       "    <tr>\n",
       "      <th>1</th>\n",
       "      <td>AL</td>\n",
       "      <td>970510</td>\n",
       "      <td>60129.955845</td>\n",
       "      <td>121</td>\n",
       "      <td>15.438017</td>\n",
       "      <td>3.673913</td>\n",
       "    </tr>\n",
       "    <tr>\n",
       "      <th>2</th>\n",
       "      <td>AR</td>\n",
       "      <td>886250</td>\n",
       "      <td>55399.123422</td>\n",
       "      <td>109</td>\n",
       "      <td>13.981651</td>\n",
       "      <td>3.789474</td>\n",
       "    </tr>\n",
       "    <tr>\n",
       "      <th>3</th>\n",
       "      <td>AZ</td>\n",
       "      <td>994820</td>\n",
       "      <td>63961.727080</td>\n",
       "      <td>71</td>\n",
       "      <td>13.887324</td>\n",
       "      <td>3.410256</td>\n",
       "    </tr>\n",
       "    <tr>\n",
       "      <th>4</th>\n",
       "      <td>CA</td>\n",
       "      <td>4093380</td>\n",
       "      <td>75793.617001</td>\n",
       "      <td>309</td>\n",
       "      <td>14.239482</td>\n",
       "      <td>3.280000</td>\n",
       "    </tr>\n",
       "  </tbody>\n",
       "</table>\n",
       "</div>"
      ],
      "text/plain": [
       "  state_y  total_pop    avg_income  n_courses  holeCount    rating\n",
       "0      AK     288780  74791.929935         31  13.451613  3.692308\n",
       "1      AL     970510  60129.955845        121  15.438017  3.673913\n",
       "2      AR     886250  55399.123422        109  13.981651  3.789474\n",
       "3      AZ     994820  63961.727080         71  13.887324  3.410256\n",
       "4      CA    4093380  75793.617001        309  14.239482  3.280000"
      ]
     },
     "execution_count": 10,
     "metadata": {},
     "output_type": "execute_result"
    }
   ],
   "source": [
    "ma2 = mergeall.reset_index()\n",
    "ma2.head()\n"
   ]
  },
  {
   "cell_type": "code",
   "execution_count": 14,
   "metadata": {},
   "outputs": [
    {
     "data": {
      "application/vnd.plotly.v1+json": {
       "config": {
        "plotlyServerURL": "https://plot.ly"
       },
       "data": [
        {
         "coloraxis": "coloraxis",
         "geo": "geo",
         "hovertemplate": "state_y=%{location}<br>n_courses=%{z}<extra></extra>",
         "locationmode": "USA-states",
         "locations": [
          "AK",
          "AL",
          "AR",
          "AZ",
          "CA",
          "CO",
          "CT",
          "DE",
          "FL",
          "GA",
          "HI",
          "IA",
          "ID",
          "IL",
          "IN",
          "KS",
          "KY",
          "LA",
          "MA",
          "MD",
          "ME",
          "MI",
          "MN",
          "MO",
          "MS",
          "MT",
          "NC",
          "ND",
          "NE",
          "NH",
          "NJ",
          "NM",
          "NV",
          "NY",
          "OH",
          "OK",
          "OR",
          "PA",
          "RI",
          "SC",
          "SD",
          "TN",
          "TX",
          "UT",
          "VA",
          "VT",
          "WA",
          "WI",
          "WV",
          "WY"
         ],
         "name": "",
         "type": "choropleth",
         "z": [
          31,
          121,
          109,
          71,
          309,
          176,
          30,
          13,
          178,
          138,
          11,
          287,
          99,
          285,
          185,
          260,
          113,
          56,
          60,
          50,
          74,
          300,
          339,
          185,
          88,
          59,
          273,
          60,
          110,
          32,
          40,
          48,
          35,
          136,
          260,
          165,
          143,
          202,
          4,
          122,
          74,
          155,
          464,
          72,
          131,
          43,
          128,
          344,
          64,
          38
         ]
        }
       ],
       "layout": {
        "coloraxis": {
         "colorbar": {
          "title": {
           "text": "n_courses"
          }
         },
         "colorscale": [
          [
           0,
           "#fde725"
          ],
          [
           0.1111111111111111,
           "#b5de2b"
          ],
          [
           0.2222222222222222,
           "#6ece58"
          ],
          [
           0.3333333333333333,
           "#35b779"
          ],
          [
           0.4444444444444444,
           "#1f9e89"
          ],
          [
           0.5555555555555556,
           "#26828e"
          ],
          [
           0.6666666666666666,
           "#31688e"
          ],
          [
           0.7777777777777778,
           "#3e4989"
          ],
          [
           0.8888888888888888,
           "#482878"
          ],
          [
           1,
           "#440154"
          ]
         ]
        },
        "geo": {
         "center": {},
         "domain": {
          "x": [
           0,
           1
          ],
          "y": [
           0,
           1
          ]
         },
         "scope": "usa"
        },
        "legend": {
         "tracegroupgap": 0
        },
        "margin": {
         "t": 60
        },
        "template": {
         "data": {
          "bar": [
           {
            "error_x": {
             "color": "#2a3f5f"
            },
            "error_y": {
             "color": "#2a3f5f"
            },
            "marker": {
             "line": {
              "color": "#E5ECF6",
              "width": 0.5
             },
             "pattern": {
              "fillmode": "overlay",
              "size": 10,
              "solidity": 0.2
             }
            },
            "type": "bar"
           }
          ],
          "barpolar": [
           {
            "marker": {
             "line": {
              "color": "#E5ECF6",
              "width": 0.5
             },
             "pattern": {
              "fillmode": "overlay",
              "size": 10,
              "solidity": 0.2
             }
            },
            "type": "barpolar"
           }
          ],
          "carpet": [
           {
            "aaxis": {
             "endlinecolor": "#2a3f5f",
             "gridcolor": "white",
             "linecolor": "white",
             "minorgridcolor": "white",
             "startlinecolor": "#2a3f5f"
            },
            "baxis": {
             "endlinecolor": "#2a3f5f",
             "gridcolor": "white",
             "linecolor": "white",
             "minorgridcolor": "white",
             "startlinecolor": "#2a3f5f"
            },
            "type": "carpet"
           }
          ],
          "choropleth": [
           {
            "colorbar": {
             "outlinewidth": 0,
             "ticks": ""
            },
            "type": "choropleth"
           }
          ],
          "contour": [
           {
            "colorbar": {
             "outlinewidth": 0,
             "ticks": ""
            },
            "colorscale": [
             [
              0,
              "#0d0887"
             ],
             [
              0.1111111111111111,
              "#46039f"
             ],
             [
              0.2222222222222222,
              "#7201a8"
             ],
             [
              0.3333333333333333,
              "#9c179e"
             ],
             [
              0.4444444444444444,
              "#bd3786"
             ],
             [
              0.5555555555555556,
              "#d8576b"
             ],
             [
              0.6666666666666666,
              "#ed7953"
             ],
             [
              0.7777777777777778,
              "#fb9f3a"
             ],
             [
              0.8888888888888888,
              "#fdca26"
             ],
             [
              1,
              "#f0f921"
             ]
            ],
            "type": "contour"
           }
          ],
          "contourcarpet": [
           {
            "colorbar": {
             "outlinewidth": 0,
             "ticks": ""
            },
            "type": "contourcarpet"
           }
          ],
          "heatmap": [
           {
            "colorbar": {
             "outlinewidth": 0,
             "ticks": ""
            },
            "colorscale": [
             [
              0,
              "#0d0887"
             ],
             [
              0.1111111111111111,
              "#46039f"
             ],
             [
              0.2222222222222222,
              "#7201a8"
             ],
             [
              0.3333333333333333,
              "#9c179e"
             ],
             [
              0.4444444444444444,
              "#bd3786"
             ],
             [
              0.5555555555555556,
              "#d8576b"
             ],
             [
              0.6666666666666666,
              "#ed7953"
             ],
             [
              0.7777777777777778,
              "#fb9f3a"
             ],
             [
              0.8888888888888888,
              "#fdca26"
             ],
             [
              1,
              "#f0f921"
             ]
            ],
            "type": "heatmap"
           }
          ],
          "heatmapgl": [
           {
            "colorbar": {
             "outlinewidth": 0,
             "ticks": ""
            },
            "colorscale": [
             [
              0,
              "#0d0887"
             ],
             [
              0.1111111111111111,
              "#46039f"
             ],
             [
              0.2222222222222222,
              "#7201a8"
             ],
             [
              0.3333333333333333,
              "#9c179e"
             ],
             [
              0.4444444444444444,
              "#bd3786"
             ],
             [
              0.5555555555555556,
              "#d8576b"
             ],
             [
              0.6666666666666666,
              "#ed7953"
             ],
             [
              0.7777777777777778,
              "#fb9f3a"
             ],
             [
              0.8888888888888888,
              "#fdca26"
             ],
             [
              1,
              "#f0f921"
             ]
            ],
            "type": "heatmapgl"
           }
          ],
          "histogram": [
           {
            "marker": {
             "pattern": {
              "fillmode": "overlay",
              "size": 10,
              "solidity": 0.2
             }
            },
            "type": "histogram"
           }
          ],
          "histogram2d": [
           {
            "colorbar": {
             "outlinewidth": 0,
             "ticks": ""
            },
            "colorscale": [
             [
              0,
              "#0d0887"
             ],
             [
              0.1111111111111111,
              "#46039f"
             ],
             [
              0.2222222222222222,
              "#7201a8"
             ],
             [
              0.3333333333333333,
              "#9c179e"
             ],
             [
              0.4444444444444444,
              "#bd3786"
             ],
             [
              0.5555555555555556,
              "#d8576b"
             ],
             [
              0.6666666666666666,
              "#ed7953"
             ],
             [
              0.7777777777777778,
              "#fb9f3a"
             ],
             [
              0.8888888888888888,
              "#fdca26"
             ],
             [
              1,
              "#f0f921"
             ]
            ],
            "type": "histogram2d"
           }
          ],
          "histogram2dcontour": [
           {
            "colorbar": {
             "outlinewidth": 0,
             "ticks": ""
            },
            "colorscale": [
             [
              0,
              "#0d0887"
             ],
             [
              0.1111111111111111,
              "#46039f"
             ],
             [
              0.2222222222222222,
              "#7201a8"
             ],
             [
              0.3333333333333333,
              "#9c179e"
             ],
             [
              0.4444444444444444,
              "#bd3786"
             ],
             [
              0.5555555555555556,
              "#d8576b"
             ],
             [
              0.6666666666666666,
              "#ed7953"
             ],
             [
              0.7777777777777778,
              "#fb9f3a"
             ],
             [
              0.8888888888888888,
              "#fdca26"
             ],
             [
              1,
              "#f0f921"
             ]
            ],
            "type": "histogram2dcontour"
           }
          ],
          "mesh3d": [
           {
            "colorbar": {
             "outlinewidth": 0,
             "ticks": ""
            },
            "type": "mesh3d"
           }
          ],
          "parcoords": [
           {
            "line": {
             "colorbar": {
              "outlinewidth": 0,
              "ticks": ""
             }
            },
            "type": "parcoords"
           }
          ],
          "pie": [
           {
            "automargin": true,
            "type": "pie"
           }
          ],
          "scatter": [
           {
            "fillpattern": {
             "fillmode": "overlay",
             "size": 10,
             "solidity": 0.2
            },
            "type": "scatter"
           }
          ],
          "scatter3d": [
           {
            "line": {
             "colorbar": {
              "outlinewidth": 0,
              "ticks": ""
             }
            },
            "marker": {
             "colorbar": {
              "outlinewidth": 0,
              "ticks": ""
             }
            },
            "type": "scatter3d"
           }
          ],
          "scattercarpet": [
           {
            "marker": {
             "colorbar": {
              "outlinewidth": 0,
              "ticks": ""
             }
            },
            "type": "scattercarpet"
           }
          ],
          "scattergeo": [
           {
            "marker": {
             "colorbar": {
              "outlinewidth": 0,
              "ticks": ""
             }
            },
            "type": "scattergeo"
           }
          ],
          "scattergl": [
           {
            "marker": {
             "colorbar": {
              "outlinewidth": 0,
              "ticks": ""
             }
            },
            "type": "scattergl"
           }
          ],
          "scattermapbox": [
           {
            "marker": {
             "colorbar": {
              "outlinewidth": 0,
              "ticks": ""
             }
            },
            "type": "scattermapbox"
           }
          ],
          "scatterpolar": [
           {
            "marker": {
             "colorbar": {
              "outlinewidth": 0,
              "ticks": ""
             }
            },
            "type": "scatterpolar"
           }
          ],
          "scatterpolargl": [
           {
            "marker": {
             "colorbar": {
              "outlinewidth": 0,
              "ticks": ""
             }
            },
            "type": "scatterpolargl"
           }
          ],
          "scatterternary": [
           {
            "marker": {
             "colorbar": {
              "outlinewidth": 0,
              "ticks": ""
             }
            },
            "type": "scatterternary"
           }
          ],
          "surface": [
           {
            "colorbar": {
             "outlinewidth": 0,
             "ticks": ""
            },
            "colorscale": [
             [
              0,
              "#0d0887"
             ],
             [
              0.1111111111111111,
              "#46039f"
             ],
             [
              0.2222222222222222,
              "#7201a8"
             ],
             [
              0.3333333333333333,
              "#9c179e"
             ],
             [
              0.4444444444444444,
              "#bd3786"
             ],
             [
              0.5555555555555556,
              "#d8576b"
             ],
             [
              0.6666666666666666,
              "#ed7953"
             ],
             [
              0.7777777777777778,
              "#fb9f3a"
             ],
             [
              0.8888888888888888,
              "#fdca26"
             ],
             [
              1,
              "#f0f921"
             ]
            ],
            "type": "surface"
           }
          ],
          "table": [
           {
            "cells": {
             "fill": {
              "color": "#EBF0F8"
             },
             "line": {
              "color": "white"
             }
            },
            "header": {
             "fill": {
              "color": "#C8D4E3"
             },
             "line": {
              "color": "white"
             }
            },
            "type": "table"
           }
          ]
         },
         "layout": {
          "annotationdefaults": {
           "arrowcolor": "#2a3f5f",
           "arrowhead": 0,
           "arrowwidth": 1
          },
          "autotypenumbers": "strict",
          "coloraxis": {
           "colorbar": {
            "outlinewidth": 0,
            "ticks": ""
           }
          },
          "colorscale": {
           "diverging": [
            [
             0,
             "#8e0152"
            ],
            [
             0.1,
             "#c51b7d"
            ],
            [
             0.2,
             "#de77ae"
            ],
            [
             0.3,
             "#f1b6da"
            ],
            [
             0.4,
             "#fde0ef"
            ],
            [
             0.5,
             "#f7f7f7"
            ],
            [
             0.6,
             "#e6f5d0"
            ],
            [
             0.7,
             "#b8e186"
            ],
            [
             0.8,
             "#7fbc41"
            ],
            [
             0.9,
             "#4d9221"
            ],
            [
             1,
             "#276419"
            ]
           ],
           "sequential": [
            [
             0,
             "#0d0887"
            ],
            [
             0.1111111111111111,
             "#46039f"
            ],
            [
             0.2222222222222222,
             "#7201a8"
            ],
            [
             0.3333333333333333,
             "#9c179e"
            ],
            [
             0.4444444444444444,
             "#bd3786"
            ],
            [
             0.5555555555555556,
             "#d8576b"
            ],
            [
             0.6666666666666666,
             "#ed7953"
            ],
            [
             0.7777777777777778,
             "#fb9f3a"
            ],
            [
             0.8888888888888888,
             "#fdca26"
            ],
            [
             1,
             "#f0f921"
            ]
           ],
           "sequentialminus": [
            [
             0,
             "#0d0887"
            ],
            [
             0.1111111111111111,
             "#46039f"
            ],
            [
             0.2222222222222222,
             "#7201a8"
            ],
            [
             0.3333333333333333,
             "#9c179e"
            ],
            [
             0.4444444444444444,
             "#bd3786"
            ],
            [
             0.5555555555555556,
             "#d8576b"
            ],
            [
             0.6666666666666666,
             "#ed7953"
            ],
            [
             0.7777777777777778,
             "#fb9f3a"
            ],
            [
             0.8888888888888888,
             "#fdca26"
            ],
            [
             1,
             "#f0f921"
            ]
           ]
          },
          "colorway": [
           "#636efa",
           "#EF553B",
           "#00cc96",
           "#ab63fa",
           "#FFA15A",
           "#19d3f3",
           "#FF6692",
           "#B6E880",
           "#FF97FF",
           "#FECB52"
          ],
          "font": {
           "color": "#2a3f5f"
          },
          "geo": {
           "bgcolor": "white",
           "lakecolor": "white",
           "landcolor": "#E5ECF6",
           "showlakes": true,
           "showland": true,
           "subunitcolor": "white"
          },
          "hoverlabel": {
           "align": "left"
          },
          "hovermode": "closest",
          "mapbox": {
           "style": "light"
          },
          "paper_bgcolor": "white",
          "plot_bgcolor": "#E5ECF6",
          "polar": {
           "angularaxis": {
            "gridcolor": "white",
            "linecolor": "white",
            "ticks": ""
           },
           "bgcolor": "#E5ECF6",
           "radialaxis": {
            "gridcolor": "white",
            "linecolor": "white",
            "ticks": ""
           }
          },
          "scene": {
           "xaxis": {
            "backgroundcolor": "#E5ECF6",
            "gridcolor": "white",
            "gridwidth": 2,
            "linecolor": "white",
            "showbackground": true,
            "ticks": "",
            "zerolinecolor": "white"
           },
           "yaxis": {
            "backgroundcolor": "#E5ECF6",
            "gridcolor": "white",
            "gridwidth": 2,
            "linecolor": "white",
            "showbackground": true,
            "ticks": "",
            "zerolinecolor": "white"
           },
           "zaxis": {
            "backgroundcolor": "#E5ECF6",
            "gridcolor": "white",
            "gridwidth": 2,
            "linecolor": "white",
            "showbackground": true,
            "ticks": "",
            "zerolinecolor": "white"
           }
          },
          "shapedefaults": {
           "line": {
            "color": "#2a3f5f"
           }
          },
          "ternary": {
           "aaxis": {
            "gridcolor": "white",
            "linecolor": "white",
            "ticks": ""
           },
           "baxis": {
            "gridcolor": "white",
            "linecolor": "white",
            "ticks": ""
           },
           "bgcolor": "#E5ECF6",
           "caxis": {
            "gridcolor": "white",
            "linecolor": "white",
            "ticks": ""
           }
          },
          "title": {
           "x": 0.05
          },
          "xaxis": {
           "automargin": true,
           "gridcolor": "white",
           "linecolor": "white",
           "ticks": "",
           "title": {
            "standoff": 15
           },
           "zerolinecolor": "white",
           "zerolinewidth": 2
          },
          "yaxis": {
           "automargin": true,
           "gridcolor": "white",
           "linecolor": "white",
           "ticks": "",
           "title": {
            "standoff": 15
           },
           "zerolinecolor": "white",
           "zerolinewidth": 2
          }
         }
        }
       }
      }
     },
     "metadata": {},
     "output_type": "display_data"
    }
   ],
   "source": [
    "fig = px.choropleth(ma2,\n",
    "                    locations='state_y',\n",
    "                    locationmode=\"USA-states\", \n",
    "                    scope=\"usa\",\n",
    "                    color='n_courses',\n",
    "                    color_continuous_scale=\"Viridis_r\", \n",
    "\n",
    "                    )\n",
    "\n",
    "\n",
    "fig.show()"
   ]
  },
  {
   "cell_type": "code",
   "execution_count": 9,
   "metadata": {},
   "outputs": [
    {
     "data": {
      "text/html": [
       "<div>\n",
       "<style scoped>\n",
       "    .dataframe tbody tr th:only-of-type {\n",
       "        vertical-align: middle;\n",
       "    }\n",
       "\n",
       "    .dataframe tbody tr th {\n",
       "        vertical-align: top;\n",
       "    }\n",
       "\n",
       "    .dataframe thead th {\n",
       "        text-align: right;\n",
       "    }\n",
       "</style>\n",
       "<table border=\"1\" class=\"dataframe\">\n",
       "  <thead>\n",
       "    <tr style=\"text-align: right;\">\n",
       "      <th></th>\n",
       "      <th>state_x</th>\n",
       "      <th>total_pop</th>\n",
       "      <th>avg_income</th>\n",
       "      <th>n_courses</th>\n",
       "      <th>holeCount</th>\n",
       "      <th>rating</th>\n",
       "    </tr>\n",
       "  </thead>\n",
       "  <tbody>\n",
       "    <tr>\n",
       "      <th>0</th>\n",
       "      <td>Alabama</td>\n",
       "      <td>970510</td>\n",
       "      <td>60129.955845</td>\n",
       "      <td>121</td>\n",
       "      <td>15.438017</td>\n",
       "      <td>3.673913</td>\n",
       "    </tr>\n",
       "    <tr>\n",
       "      <th>1</th>\n",
       "      <td>Alaska</td>\n",
       "      <td>288780</td>\n",
       "      <td>74791.929935</td>\n",
       "      <td>31</td>\n",
       "      <td>13.451613</td>\n",
       "      <td>3.692308</td>\n",
       "    </tr>\n",
       "    <tr>\n",
       "      <th>2</th>\n",
       "      <td>Arizona</td>\n",
       "      <td>994820</td>\n",
       "      <td>63961.727080</td>\n",
       "      <td>71</td>\n",
       "      <td>13.887324</td>\n",
       "      <td>3.410256</td>\n",
       "    </tr>\n",
       "    <tr>\n",
       "      <th>3</th>\n",
       "      <td>Arkansas</td>\n",
       "      <td>886250</td>\n",
       "      <td>55399.123422</td>\n",
       "      <td>109</td>\n",
       "      <td>13.981651</td>\n",
       "      <td>3.789474</td>\n",
       "    </tr>\n",
       "    <tr>\n",
       "      <th>4</th>\n",
       "      <td>California</td>\n",
       "      <td>4093380</td>\n",
       "      <td>75793.617001</td>\n",
       "      <td>309</td>\n",
       "      <td>14.239482</td>\n",
       "      <td>3.280000</td>\n",
       "    </tr>\n",
       "    <tr>\n",
       "      <th>5</th>\n",
       "      <td>Colorado</td>\n",
       "      <td>1879100</td>\n",
       "      <td>80219.338127</td>\n",
       "      <td>176</td>\n",
       "      <td>13.886364</td>\n",
       "      <td>3.277778</td>\n",
       "    </tr>\n",
       "    <tr>\n",
       "      <th>6</th>\n",
       "      <td>Connecticut</td>\n",
       "      <td>330080</td>\n",
       "      <td>109678.582339</td>\n",
       "      <td>30</td>\n",
       "      <td>14.933333</td>\n",
       "      <td>3.611111</td>\n",
       "    </tr>\n",
       "    <tr>\n",
       "      <th>7</th>\n",
       "      <td>Delaware</td>\n",
       "      <td>178660</td>\n",
       "      <td>71301.197832</td>\n",
       "      <td>13</td>\n",
       "      <td>16.769231</td>\n",
       "      <td>3.000000</td>\n",
       "    </tr>\n",
       "    <tr>\n",
       "      <th>8</th>\n",
       "      <td>Florida</td>\n",
       "      <td>2229570</td>\n",
       "      <td>71147.145914</td>\n",
       "      <td>178</td>\n",
       "      <td>14.471910</td>\n",
       "      <td>3.603774</td>\n",
       "    </tr>\n",
       "    <tr>\n",
       "      <th>9</th>\n",
       "      <td>Georgia</td>\n",
       "      <td>1757390</td>\n",
       "      <td>63097.464684</td>\n",
       "      <td>138</td>\n",
       "      <td>14.862319</td>\n",
       "      <td>3.588235</td>\n",
       "    </tr>\n",
       "    <tr>\n",
       "      <th>10</th>\n",
       "      <td>Hawaii</td>\n",
       "      <td>108150</td>\n",
       "      <td>60827.755747</td>\n",
       "      <td>11</td>\n",
       "      <td>12.818182</td>\n",
       "      <td>4.666667</td>\n",
       "    </tr>\n",
       "    <tr>\n",
       "      <th>11</th>\n",
       "      <td>Idaho</td>\n",
       "      <td>882770</td>\n",
       "      <td>65559.228564</td>\n",
       "      <td>100</td>\n",
       "      <td>12.830000</td>\n",
       "      <td>3.350000</td>\n",
       "    </tr>\n",
       "    <tr>\n",
       "      <th>12</th>\n",
       "      <td>Illinois</td>\n",
       "      <td>2729860</td>\n",
       "      <td>76785.410580</td>\n",
       "      <td>285</td>\n",
       "      <td>12.610526</td>\n",
       "      <td>3.084746</td>\n",
       "    </tr>\n",
       "    <tr>\n",
       "      <th>13</th>\n",
       "      <td>Indiana</td>\n",
       "      <td>1901680</td>\n",
       "      <td>61940.266185</td>\n",
       "      <td>185</td>\n",
       "      <td>14.821622</td>\n",
       "      <td>3.526316</td>\n",
       "    </tr>\n",
       "    <tr>\n",
       "      <th>14</th>\n",
       "      <td>Iowa</td>\n",
       "      <td>1346220</td>\n",
       "      <td>66076.191609</td>\n",
       "      <td>287</td>\n",
       "      <td>11.668990</td>\n",
       "      <td>3.221053</td>\n",
       "    </tr>\n",
       "    <tr>\n",
       "      <th>15</th>\n",
       "      <td>Kansas</td>\n",
       "      <td>1440530</td>\n",
       "      <td>59990.129837</td>\n",
       "      <td>260</td>\n",
       "      <td>12.207692</td>\n",
       "      <td>3.370370</td>\n",
       "    </tr>\n",
       "    <tr>\n",
       "      <th>16</th>\n",
       "      <td>Kentucky</td>\n",
       "      <td>1188150</td>\n",
       "      <td>54763.981327</td>\n",
       "      <td>114</td>\n",
       "      <td>15.236842</td>\n",
       "      <td>3.338462</td>\n",
       "    </tr>\n",
       "    <tr>\n",
       "      <th>17</th>\n",
       "      <td>Louisiana</td>\n",
       "      <td>522550</td>\n",
       "      <td>62495.907920</td>\n",
       "      <td>56</td>\n",
       "      <td>15.267857</td>\n",
       "      <td>3.400000</td>\n",
       "    </tr>\n",
       "    <tr>\n",
       "      <th>18</th>\n",
       "      <td>Maine</td>\n",
       "      <td>335500</td>\n",
       "      <td>59570.185714</td>\n",
       "      <td>74</td>\n",
       "      <td>16.148649</td>\n",
       "      <td>3.468750</td>\n",
       "    </tr>\n",
       "    <tr>\n",
       "      <th>19</th>\n",
       "      <td>Maryland</td>\n",
       "      <td>481640</td>\n",
       "      <td>79788.324256</td>\n",
       "      <td>50</td>\n",
       "      <td>14.840000</td>\n",
       "      <td>3.260870</td>\n",
       "    </tr>\n",
       "    <tr>\n",
       "      <th>20</th>\n",
       "      <td>Massachusetts</td>\n",
       "      <td>501090</td>\n",
       "      <td>89881.830978</td>\n",
       "      <td>60</td>\n",
       "      <td>15.250000</td>\n",
       "      <td>3.542857</td>\n",
       "    </tr>\n",
       "    <tr>\n",
       "      <th>21</th>\n",
       "      <td>Michigan</td>\n",
       "      <td>2712540</td>\n",
       "      <td>65157.653139</td>\n",
       "      <td>300</td>\n",
       "      <td>15.246667</td>\n",
       "      <td>3.713043</td>\n",
       "    </tr>\n",
       "    <tr>\n",
       "      <th>22</th>\n",
       "      <td>Minnesota</td>\n",
       "      <td>2365280</td>\n",
       "      <td>69054.948215</td>\n",
       "      <td>339</td>\n",
       "      <td>11.265487</td>\n",
       "      <td>3.093750</td>\n",
       "    </tr>\n",
       "    <tr>\n",
       "      <th>23</th>\n",
       "      <td>Mississippi</td>\n",
       "      <td>636760</td>\n",
       "      <td>52094.057529</td>\n",
       "      <td>88</td>\n",
       "      <td>15.375000</td>\n",
       "      <td>3.400000</td>\n",
       "    </tr>\n",
       "    <tr>\n",
       "      <th>24</th>\n",
       "      <td>Missouri</td>\n",
       "      <td>1762390</td>\n",
       "      <td>58524.152347</td>\n",
       "      <td>185</td>\n",
       "      <td>13.875676</td>\n",
       "      <td>3.718310</td>\n",
       "    </tr>\n",
       "    <tr>\n",
       "      <th>25</th>\n",
       "      <td>Montana</td>\n",
       "      <td>416210</td>\n",
       "      <td>67079.977754</td>\n",
       "      <td>58</td>\n",
       "      <td>14.482759</td>\n",
       "      <td>3.550000</td>\n",
       "    </tr>\n",
       "    <tr>\n",
       "      <th>26</th>\n",
       "      <td>Nebraska</td>\n",
       "      <td>514590</td>\n",
       "      <td>60920.892644</td>\n",
       "      <td>110</td>\n",
       "      <td>10.736364</td>\n",
       "      <td>2.907407</td>\n",
       "    </tr>\n",
       "    <tr>\n",
       "      <th>27</th>\n",
       "      <td>Nevada</td>\n",
       "      <td>437070</td>\n",
       "      <td>92272.235298</td>\n",
       "      <td>34</td>\n",
       "      <td>14.529412</td>\n",
       "      <td>3.722222</td>\n",
       "    </tr>\n",
       "    <tr>\n",
       "      <th>28</th>\n",
       "      <td>New Hampshire</td>\n",
       "      <td>155490</td>\n",
       "      <td>83744.914772</td>\n",
       "      <td>32</td>\n",
       "      <td>15.781250</td>\n",
       "      <td>3.647059</td>\n",
       "    </tr>\n",
       "    <tr>\n",
       "      <th>29</th>\n",
       "      <td>New Jersey</td>\n",
       "      <td>489430</td>\n",
       "      <td>107111.459418</td>\n",
       "      <td>40</td>\n",
       "      <td>13.725000</td>\n",
       "      <td>3.375000</td>\n",
       "    </tr>\n",
       "    <tr>\n",
       "      <th>30</th>\n",
       "      <td>New Mexico</td>\n",
       "      <td>486430</td>\n",
       "      <td>59271.861236</td>\n",
       "      <td>48</td>\n",
       "      <td>14.708333</td>\n",
       "      <td>3.125000</td>\n",
       "    </tr>\n",
       "    <tr>\n",
       "      <th>31</th>\n",
       "      <td>New York</td>\n",
       "      <td>932840</td>\n",
       "      <td>70437.625803</td>\n",
       "      <td>136</td>\n",
       "      <td>14.727941</td>\n",
       "      <td>3.113208</td>\n",
       "    </tr>\n",
       "    <tr>\n",
       "      <th>32</th>\n",
       "      <td>North Carolina</td>\n",
       "      <td>3199590</td>\n",
       "      <td>64588.386519</td>\n",
       "      <td>273</td>\n",
       "      <td>14.739927</td>\n",
       "      <td>3.364341</td>\n",
       "    </tr>\n",
       "    <tr>\n",
       "      <th>33</th>\n",
       "      <td>North Dakota</td>\n",
       "      <td>479370</td>\n",
       "      <td>72439.367773</td>\n",
       "      <td>60</td>\n",
       "      <td>11.016667</td>\n",
       "      <td>3.714286</td>\n",
       "    </tr>\n",
       "    <tr>\n",
       "      <th>34</th>\n",
       "      <td>Ohio</td>\n",
       "      <td>2999610</td>\n",
       "      <td>62402.605148</td>\n",
       "      <td>261</td>\n",
       "      <td>13.762452</td>\n",
       "      <td>3.062937</td>\n",
       "    </tr>\n",
       "    <tr>\n",
       "      <th>35</th>\n",
       "      <td>Oklahoma</td>\n",
       "      <td>1253960</td>\n",
       "      <td>56985.456656</td>\n",
       "      <td>164</td>\n",
       "      <td>13.170732</td>\n",
       "      <td>3.129630</td>\n",
       "    </tr>\n",
       "    <tr>\n",
       "      <th>36</th>\n",
       "      <td>Oregon</td>\n",
       "      <td>1134120</td>\n",
       "      <td>65523.284153</td>\n",
       "      <td>143</td>\n",
       "      <td>13.475524</td>\n",
       "      <td>3.293333</td>\n",
       "    </tr>\n",
       "    <tr>\n",
       "      <th>37</th>\n",
       "      <td>Pennsylvania</td>\n",
       "      <td>1881090</td>\n",
       "      <td>72327.360693</td>\n",
       "      <td>202</td>\n",
       "      <td>14.133663</td>\n",
       "      <td>3.389474</td>\n",
       "    </tr>\n",
       "    <tr>\n",
       "      <th>38</th>\n",
       "      <td>Rhode Island</td>\n",
       "      <td>40480</td>\n",
       "      <td>75712.363746</td>\n",
       "      <td>4</td>\n",
       "      <td>18.000000</td>\n",
       "      <td>3.500000</td>\n",
       "    </tr>\n",
       "    <tr>\n",
       "      <th>39</th>\n",
       "      <td>South Carolina</td>\n",
       "      <td>1674680</td>\n",
       "      <td>63733.538516</td>\n",
       "      <td>122</td>\n",
       "      <td>13.770492</td>\n",
       "      <td>3.274194</td>\n",
       "    </tr>\n",
       "    <tr>\n",
       "      <th>40</th>\n",
       "      <td>South Dakota</td>\n",
       "      <td>425440</td>\n",
       "      <td>64898.896932</td>\n",
       "      <td>74</td>\n",
       "      <td>11.391892</td>\n",
       "      <td>3.266667</td>\n",
       "    </tr>\n",
       "    <tr>\n",
       "      <th>41</th>\n",
       "      <td>Tennessee</td>\n",
       "      <td>1777020</td>\n",
       "      <td>61670.523248</td>\n",
       "      <td>154</td>\n",
       "      <td>14.116883</td>\n",
       "      <td>3.419753</td>\n",
       "    </tr>\n",
       "    <tr>\n",
       "      <th>42</th>\n",
       "      <td>Texas</td>\n",
       "      <td>6156110</td>\n",
       "      <td>73725.588366</td>\n",
       "      <td>464</td>\n",
       "      <td>13.896552</td>\n",
       "      <td>3.398936</td>\n",
       "    </tr>\n",
       "    <tr>\n",
       "      <th>43</th>\n",
       "      <td>Utah</td>\n",
       "      <td>829810</td>\n",
       "      <td>70352.323627</td>\n",
       "      <td>73</td>\n",
       "      <td>13.397260</td>\n",
       "      <td>3.463415</td>\n",
       "    </tr>\n",
       "    <tr>\n",
       "      <th>44</th>\n",
       "      <td>Vermont</td>\n",
       "      <td>111920</td>\n",
       "      <td>67267.081015</td>\n",
       "      <td>43</td>\n",
       "      <td>15.976744</td>\n",
       "      <td>3.700000</td>\n",
       "    </tr>\n",
       "    <tr>\n",
       "      <th>45</th>\n",
       "      <td>Virginia</td>\n",
       "      <td>1380780</td>\n",
       "      <td>72861.719359</td>\n",
       "      <td>131</td>\n",
       "      <td>14.725191</td>\n",
       "      <td>3.439394</td>\n",
       "    </tr>\n",
       "    <tr>\n",
       "      <th>46</th>\n",
       "      <td>Washington</td>\n",
       "      <td>1399470</td>\n",
       "      <td>76454.960721</td>\n",
       "      <td>128</td>\n",
       "      <td>13.539062</td>\n",
       "      <td>3.327586</td>\n",
       "    </tr>\n",
       "    <tr>\n",
       "      <th>47</th>\n",
       "      <td>West Virginia</td>\n",
       "      <td>294560</td>\n",
       "      <td>57620.272522</td>\n",
       "      <td>64</td>\n",
       "      <td>15.437500</td>\n",
       "      <td>3.545455</td>\n",
       "    </tr>\n",
       "    <tr>\n",
       "      <th>48</th>\n",
       "      <td>Wisconsin</td>\n",
       "      <td>2489580</td>\n",
       "      <td>66144.270928</td>\n",
       "      <td>344</td>\n",
       "      <td>12.281977</td>\n",
       "      <td>3.550388</td>\n",
       "    </tr>\n",
       "    <tr>\n",
       "      <th>49</th>\n",
       "      <td>Wyoming</td>\n",
       "      <td>291970</td>\n",
       "      <td>80759.996364</td>\n",
       "      <td>38</td>\n",
       "      <td>13.078947</td>\n",
       "      <td>3.181818</td>\n",
       "    </tr>\n",
       "  </tbody>\n",
       "</table>\n",
       "</div>"
      ],
      "text/plain": [
       "           state_x  total_pop     avg_income  n_courses  holeCount    rating\n",
       "0          Alabama     970510   60129.955845        121  15.438017  3.673913\n",
       "1           Alaska     288780   74791.929935         31  13.451613  3.692308\n",
       "2          Arizona     994820   63961.727080         71  13.887324  3.410256\n",
       "3         Arkansas     886250   55399.123422        109  13.981651  3.789474\n",
       "4       California    4093380   75793.617001        309  14.239482  3.280000\n",
       "5         Colorado    1879100   80219.338127        176  13.886364  3.277778\n",
       "6      Connecticut     330080  109678.582339         30  14.933333  3.611111\n",
       "7         Delaware     178660   71301.197832         13  16.769231  3.000000\n",
       "8          Florida    2229570   71147.145914        178  14.471910  3.603774\n",
       "9          Georgia    1757390   63097.464684        138  14.862319  3.588235\n",
       "10          Hawaii     108150   60827.755747         11  12.818182  4.666667\n",
       "11           Idaho     882770   65559.228564        100  12.830000  3.350000\n",
       "12        Illinois    2729860   76785.410580        285  12.610526  3.084746\n",
       "13         Indiana    1901680   61940.266185        185  14.821622  3.526316\n",
       "14            Iowa    1346220   66076.191609        287  11.668990  3.221053\n",
       "15          Kansas    1440530   59990.129837        260  12.207692  3.370370\n",
       "16        Kentucky    1188150   54763.981327        114  15.236842  3.338462\n",
       "17       Louisiana     522550   62495.907920         56  15.267857  3.400000\n",
       "18           Maine     335500   59570.185714         74  16.148649  3.468750\n",
       "19        Maryland     481640   79788.324256         50  14.840000  3.260870\n",
       "20   Massachusetts     501090   89881.830978         60  15.250000  3.542857\n",
       "21        Michigan    2712540   65157.653139        300  15.246667  3.713043\n",
       "22       Minnesota    2365280   69054.948215        339  11.265487  3.093750\n",
       "23     Mississippi     636760   52094.057529         88  15.375000  3.400000\n",
       "24        Missouri    1762390   58524.152347        185  13.875676  3.718310\n",
       "25         Montana     416210   67079.977754         58  14.482759  3.550000\n",
       "26        Nebraska     514590   60920.892644        110  10.736364  2.907407\n",
       "27          Nevada     437070   92272.235298         34  14.529412  3.722222\n",
       "28   New Hampshire     155490   83744.914772         32  15.781250  3.647059\n",
       "29      New Jersey     489430  107111.459418         40  13.725000  3.375000\n",
       "30      New Mexico     486430   59271.861236         48  14.708333  3.125000\n",
       "31        New York     932840   70437.625803        136  14.727941  3.113208\n",
       "32  North Carolina    3199590   64588.386519        273  14.739927  3.364341\n",
       "33    North Dakota     479370   72439.367773         60  11.016667  3.714286\n",
       "34            Ohio    2999610   62402.605148        261  13.762452  3.062937\n",
       "35        Oklahoma    1253960   56985.456656        164  13.170732  3.129630\n",
       "36          Oregon    1134120   65523.284153        143  13.475524  3.293333\n",
       "37    Pennsylvania    1881090   72327.360693        202  14.133663  3.389474\n",
       "38    Rhode Island      40480   75712.363746          4  18.000000  3.500000\n",
       "39  South Carolina    1674680   63733.538516        122  13.770492  3.274194\n",
       "40    South Dakota     425440   64898.896932         74  11.391892  3.266667\n",
       "41       Tennessee    1777020   61670.523248        154  14.116883  3.419753\n",
       "42           Texas    6156110   73725.588366        464  13.896552  3.398936\n",
       "43            Utah     829810   70352.323627         73  13.397260  3.463415\n",
       "44         Vermont     111920   67267.081015         43  15.976744  3.700000\n",
       "45        Virginia    1380780   72861.719359        131  14.725191  3.439394\n",
       "46      Washington    1399470   76454.960721        128  13.539062  3.327586\n",
       "47   West Virginia     294560   57620.272522         64  15.437500  3.545455\n",
       "48       Wisconsin    2489580   66144.270928        344  12.281977  3.550388\n",
       "49         Wyoming     291970   80759.996364         38  13.078947  3.181818"
      ]
     },
     "execution_count": 9,
     "metadata": {},
     "output_type": "execute_result"
    }
   ],
   "source": [
    "Mergeall2=mergeall.reset_index()\n",
    "Mergeall2"
   ]
  },
  {
   "cell_type": "code",
   "execution_count": 16,
   "metadata": {
    "scrolled": true
   },
   "outputs": [
    {
     "data": {
      "text/html": [
       "<div>\n",
       "<style scoped>\n",
       "    .dataframe tbody tr th:only-of-type {\n",
       "        vertical-align: middle;\n",
       "    }\n",
       "\n",
       "    .dataframe tbody tr th {\n",
       "        vertical-align: top;\n",
       "    }\n",
       "\n",
       "    .dataframe thead th {\n",
       "        text-align: right;\n",
       "    }\n",
       "</style>\n",
       "<table border=\"1\" class=\"dataframe\">\n",
       "  <thead>\n",
       "    <tr style=\"text-align: right;\">\n",
       "      <th></th>\n",
       "      <th>state_x</th>\n",
       "      <th>total_pop</th>\n",
       "      <th>avg_income</th>\n",
       "      <th>n_courses</th>\n",
       "      <th>holeCount</th>\n",
       "      <th>rating</th>\n",
       "    </tr>\n",
       "  </thead>\n",
       "  <tbody>\n",
       "    <tr>\n",
       "      <th>12</th>\n",
       "      <td>Illinois</td>\n",
       "      <td>2729860</td>\n",
       "      <td>76785.410580</td>\n",
       "      <td>285</td>\n",
       "      <td>12.610526</td>\n",
       "      <td>3.084746</td>\n",
       "    </tr>\n",
       "    <tr>\n",
       "      <th>13</th>\n",
       "      <td>Indiana</td>\n",
       "      <td>1901680</td>\n",
       "      <td>61940.266185</td>\n",
       "      <td>185</td>\n",
       "      <td>14.821622</td>\n",
       "      <td>3.526316</td>\n",
       "    </tr>\n",
       "    <tr>\n",
       "      <th>14</th>\n",
       "      <td>Iowa</td>\n",
       "      <td>1346220</td>\n",
       "      <td>66076.191609</td>\n",
       "      <td>287</td>\n",
       "      <td>11.668990</td>\n",
       "      <td>3.221053</td>\n",
       "    </tr>\n",
       "    <tr>\n",
       "      <th>15</th>\n",
       "      <td>Kansas</td>\n",
       "      <td>1440530</td>\n",
       "      <td>59990.129837</td>\n",
       "      <td>260</td>\n",
       "      <td>12.207692</td>\n",
       "      <td>3.370370</td>\n",
       "    </tr>\n",
       "    <tr>\n",
       "      <th>21</th>\n",
       "      <td>Michigan</td>\n",
       "      <td>2712540</td>\n",
       "      <td>65157.653139</td>\n",
       "      <td>300</td>\n",
       "      <td>15.246667</td>\n",
       "      <td>3.713043</td>\n",
       "    </tr>\n",
       "    <tr>\n",
       "      <th>22</th>\n",
       "      <td>Minnesota</td>\n",
       "      <td>2365280</td>\n",
       "      <td>69054.948215</td>\n",
       "      <td>339</td>\n",
       "      <td>11.265487</td>\n",
       "      <td>3.093750</td>\n",
       "    </tr>\n",
       "    <tr>\n",
       "      <th>24</th>\n",
       "      <td>Missouri</td>\n",
       "      <td>1762390</td>\n",
       "      <td>58524.152347</td>\n",
       "      <td>185</td>\n",
       "      <td>13.875676</td>\n",
       "      <td>3.718310</td>\n",
       "    </tr>\n",
       "    <tr>\n",
       "      <th>26</th>\n",
       "      <td>Nebraska</td>\n",
       "      <td>514590</td>\n",
       "      <td>60920.892644</td>\n",
       "      <td>110</td>\n",
       "      <td>10.736364</td>\n",
       "      <td>2.907407</td>\n",
       "    </tr>\n",
       "    <tr>\n",
       "      <th>33</th>\n",
       "      <td>North Dakota</td>\n",
       "      <td>479370</td>\n",
       "      <td>72439.367773</td>\n",
       "      <td>60</td>\n",
       "      <td>11.016667</td>\n",
       "      <td>3.714286</td>\n",
       "    </tr>\n",
       "    <tr>\n",
       "      <th>34</th>\n",
       "      <td>Ohio</td>\n",
       "      <td>2999610</td>\n",
       "      <td>62402.605148</td>\n",
       "      <td>261</td>\n",
       "      <td>13.762452</td>\n",
       "      <td>3.062937</td>\n",
       "    </tr>\n",
       "    <tr>\n",
       "      <th>40</th>\n",
       "      <td>South Dakota</td>\n",
       "      <td>425440</td>\n",
       "      <td>64898.896932</td>\n",
       "      <td>74</td>\n",
       "      <td>11.391892</td>\n",
       "      <td>3.266667</td>\n",
       "    </tr>\n",
       "    <tr>\n",
       "      <th>48</th>\n",
       "      <td>Wisconsin</td>\n",
       "      <td>2489580</td>\n",
       "      <td>66144.270928</td>\n",
       "      <td>344</td>\n",
       "      <td>12.281977</td>\n",
       "      <td>3.550388</td>\n",
       "    </tr>\n",
       "  </tbody>\n",
       "</table>\n",
       "</div>"
      ],
      "text/plain": [
       "         state_x  total_pop    avg_income  n_courses  holeCount    rating\n",
       "12      Illinois    2729860  76785.410580        285  12.610526  3.084746\n",
       "13       Indiana    1901680  61940.266185        185  14.821622  3.526316\n",
       "14          Iowa    1346220  66076.191609        287  11.668990  3.221053\n",
       "15        Kansas    1440530  59990.129837        260  12.207692  3.370370\n",
       "21      Michigan    2712540  65157.653139        300  15.246667  3.713043\n",
       "22     Minnesota    2365280  69054.948215        339  11.265487  3.093750\n",
       "24      Missouri    1762390  58524.152347        185  13.875676  3.718310\n",
       "26      Nebraska     514590  60920.892644        110  10.736364  2.907407\n",
       "33  North Dakota     479370  72439.367773         60  11.016667  3.714286\n",
       "34          Ohio    2999610  62402.605148        261  13.762452  3.062937\n",
       "40  South Dakota     425440  64898.896932         74  11.391892  3.266667\n",
       "48     Wisconsin    2489580  66144.270928        344  12.281977  3.550388"
      ]
     },
     "execution_count": 16,
     "metadata": {},
     "output_type": "execute_result"
    }
   ],
   "source": [
    "#Get Midwest State\n",
    "Midwest = Mergeall2.loc[(Mergeall2[\"state_x\"]==\"Illinois\")|(Mergeall2[\"state_x\"]==\"Indiana\")|(Mergeall2[\"state_x\"]==\"Iowa\")|(Mergeall2[\"state_x\"]==\"Kansas\")|(Mergeall2[\"state_x\"]==\"Michigan\")|(Mergeall2[\"state_x\"]== \"Minnesota\")|(Mergeall2[\"state_x\"]==\"Missouri\")|(Mergeall2[\"state_x\"]==\"Nebraska\")|(Mergeall2[\"state_x\"]==\"North Dakota\")|(Mergeall2[\"state_x\"]==\"Ohio\")|(Mergeall2[\"state_x\"]==\"South Dakota\")|(Mergeall2[\"state_x\"]==\"Wisconsin\")]\n",
    "Midwest    "
   ]
  },
  {
   "cell_type": "code",
   "execution_count": null,
   "metadata": {},
   "outputs": [],
   "source": []
  },
  {
   "cell_type": "code",
   "execution_count": null,
   "metadata": {},
   "outputs": [],
   "source": []
  },
  {
   "cell_type": "code",
   "execution_count": null,
   "metadata": {},
   "outputs": [],
   "source": [
    "mergeallsort = mergeall.sort_values('n_courses',ascending= False)\n",
    "mergeallsort"
   ]
  },
  {
   "cell_type": "code",
   "execution_count": null,
   "metadata": {},
   "outputs": [],
   "source": [
    "mergeall.plot.scatter(x = 'n_courses',y = 'total_pop',s = 50)"
   ]
  },
  {
   "cell_type": "code",
   "execution_count": null,
   "metadata": {},
   "outputs": [],
   "source": [
    "mergeall.plot.scatter(x = 'n_courses',y = 'avg_income',s = 50)"
   ]
  },
  {
   "cell_type": "code",
   "execution_count": null,
   "metadata": {},
   "outputs": [],
   "source": [
    "mergeall.plot.scatter(x = 'n_courses',y = 'rating',s = 50)"
   ]
  },
  {
   "cell_type": "markdown",
   "metadata": {},
   "source": []
  },
  {
   "cell_type": "code",
   "execution_count": null,
   "metadata": {},
   "outputs": [],
   "source": [
    "#create a scatterplot function\n",
    "\n",
    "\n",
    "df = 'mergeall'\n",
    "datasetID = 'DiscGolf'\n",
    "xparam = 'ltotcourses'\n",
    "yparam = 'ltotpop'\n",
    "yunits = 'state_pop'\n",
    "fcolor = 'lightblue'\n",
    "ecolor = 'mediumblue'\n",
    "\n",
    "#some color options mistyrose and maroon,seashell  and saddlebrown,honeydew and forestgreen,lightblue and meduimblue\n",
    "#https://matplotlib.org/stable/gallery/color/named_colors.html\n",
    "\n",
    "\n",
    "def LRPlots():\n",
    "    xdata = df[xparam]\n",
    "    ydata = df[yparam]\n",
    "\n",
    "    (slope, intercept, rvalue, pvalue, stderr) = linregress(xdata, ydata)\n",
    "    regress_values = xdata * slope + intercept\n",
    "    line_eq = \"y = \" + str(round(slope,2)) + \"x + \" + str(round(intercept,2))\n",
    "\n",
    "    plt.figure(figsize = (9,7))\n",
    "    plt.scatter(xdata, ydata, marker=\"o\", facecolors=fcolor, edgecolors=ecolor,s =75)\n",
    "\n",
    "    # plt.xlim(-55,85)\n",
    "    # plt.ylim(0,105)\n",
    "    annotatex = min(xdata)+0.1*max(xdata)\n",
    "    annotatey = max(ydata)-0.1*max(ydata)\n",
    "\n",
    "    plt.plot(xdata,regress_values,\"darkslategray\")\n",
    "    plt.annotate(f'{line_eq} r={round(rvalue,2)}',(annotatex,annotatey),fontsize=15,color=\"black\")\n",
    "    \n",
    "\n",
    "    plt.title(f\"{xparam} vs. {yparam}\")\n",
    "    plt.xlabel(f\"{xparam}\")\n",
    "    plt.ylabel(f\"[{yparam} {yunits}]\")\n",
    "    plt.grid()\n",
    "\n",
    "\n",
    "    \n",
    "    print(f'The r-value is {round(rvalue,2)}')\n",
    "\n",
    "   \n",
    "\n",
    "    # Save the figure\n",
    "    figname = f'{datasetID}_{xparam}_vs_{yparam}'\n",
    "    \n",
    "    plt.savefig(f\"output_data/{figname}.png\")\n",
    "\n",
    "    # Show plot\n",
    "    plt.show()\n",
    "\n",
    "LRPlots()"
   ]
  },
  {
   "cell_type": "code",
   "execution_count": null,
   "metadata": {},
   "outputs": [],
   "source": [
    "# scatter plot of state population vs number of disc golf courses"
   ]
  },
  {
   "cell_type": "code",
   "execution_count": null,
   "metadata": {},
   "outputs": [],
   "source": [
    "# scatter plot of state average income vs number of disc golf courses"
   ]
  },
  {
   "cell_type": "code",
   "execution_count": null,
   "metadata": {},
   "outputs": [],
   "source": [
    "#My  Define a function to create Linear Regression plots\n",
    "# Columns ['City', 'Lat', 'Lng', 'Max Temp', 'Humidity', 'Cloudiness','Wind Speed', 'Country', 'Date'],\n",
    "# Max Temp units (Celsius), Humidity units (%), Cloudiness units (%) Wind Speed (m/s)\n",
    "\n",
    "datasetID = 'DiscGolf'\n",
    "xparam = 'Lat'\n",
    "yparam = 'Wind Speed'\n",
    "yunits = '(m/s)'\n",
    "fcolor = 'lightblue'\n",
    "ecolor = 'mediumblue'\n",
    "\n",
    "#some color options mistyrose and maroon,seashell  and saddlebrown,honeydew and forestgreen,lightblue and meduimblue\n",
    "#https://matplotlib.org/stable/gallery/color/named_colors.html\n",
    "\n",
    "\n",
    "def LRPlots():\n",
    "    xdata = df[xparam]\n",
    "    ydata = df[yparam]\n",
    "\n",
    "    (slope, intercept, rvalue, pvalue, stderr) = linregress(xdata, ydata)\n",
    "    regress_values = xdata * slope + intercept\n",
    "    line_eq = \"y = \" + str(round(slope,2)) + \"x + \" + str(round(intercept,2))\n",
    "\n",
    "    plt.figure(figsize = (9,7))\n",
    "    plt.scatter(xdata, ydata, marker=\"o\", facecolors=fcolor, edgecolors=ecolor,s =75)\n",
    "\n",
    "    # plt.xlim(-55,85)\n",
    "    # plt.ylim(0,105)\n",
    "    annotatex = min(xdata)+0.1*max(xdata)\n",
    "    annotatey = max(ydata)-0.1*max(ydata)\n",
    "\n",
    "    plt.plot(xdata,regress_values,\"darkslategray\")\n",
    "    plt.annotate(f'{line_eq} r={round(rvalue,2)}',(annotatex,annotatey),fontsize=15,color=\"black\")\n",
    "    \n",
    "\n",
    "    plt.title(f\"City Latitude vs. {yparam} ({datedatapull})\")\n",
    "    plt.xlabel(\"Latitude\")\n",
    "    plt.ylabel(f\"[{yparam} {yunits}]\")\n",
    "    plt.grid()\n",
    "\n",
    "\n",
    "    \n",
    "    print(f'The r-value is {round(rvalue,2)}')\n",
    "\n",
    "   \n",
    "\n",
    "    # Save the figure\n",
    "    figname = f'{datasetID}_{xparam}_vs_{yparam}'\n",
    "    \n",
    "    plt.savefig(f\"output_data/{figname}.png\")\n",
    "\n",
    "    # Show plot\n",
    "    plt.show()\n",
    "\n",
    "LRPlots()"
   ]
  },
  {
   "cell_type": "code",
   "execution_count": null,
   "metadata": {},
   "outputs": [],
   "source": [
    "# Disc Golf update zip so dtype is int64 instead of object so we can merge the two dfs\n",
    "\n",
    "discgolfdf2 = discgolfdf.dropna(subset = ['zip'])\n",
    "discgolfdf2sort = discgolfdf2.sort_values('zip')\n",
    "discgolfdf2sort"
   ]
  },
  {
   "cell_type": "markdown",
   "metadata": {},
   "source": [
    "discgolf drop zip NaN  DROP NA DOESN'T WORK BECAUSE IT'S NOT NA, sort doesn't work because it doesn't sort them at the beginning or end.  \n",
    "DiscGolfClean = manually edited disc golf csv to fix zips, added Modified column (no,yes) and Comment column (none, or modification info)"
   ]
  },
  {
   "cell_type": "code",
   "execution_count": null,
   "metadata": {},
   "outputs": [],
   "source": [
    "discgolfcleandf.head()"
   ]
  },
  {
   "cell_type": "code",
   "execution_count": null,
   "metadata": {},
   "outputs": [],
   "source": [
    "discgolfcleandf.dtypes"
   ]
  },
  {
   "cell_type": "code",
   "execution_count": null,
   "metadata": {},
   "outputs": [],
   "source": [
    "#check zipcodecsv \n",
    "zipcodedf.head(2)"
   ]
  },
  {
   "cell_type": "code",
   "execution_count": null,
   "metadata": {},
   "outputs": [],
   "source": [
    "zipcodedf.dtypes"
   ]
  },
  {
   "cell_type": "code",
   "execution_count": null,
   "metadata": {},
   "outputs": [],
   "source": [
    "# Create DraftMerge - inner join DiscGolfcleandf and zipcodedf\n",
    "#nice reference https://www.shanelynn.ie/merge-join-dataframes-python-pandas-index-1/\n",
    "draft_dgolf_avincome = pd.merge(discgolfcleandf,zipcodedf,how = 'inner',left_on='zip',right_on='zipcode')\n",
    "draft_dgolf_avincome.head()\n"
   ]
  },
  {
   "cell_type": "code",
   "execution_count": null,
   "metadata": {},
   "outputs": [],
   "source": [
    "#export draft_dgolf_avincome to csv\n",
    "draft_dgolf_avincome.to_csv('Resources/draft_dgolf_avincome.csv')"
   ]
  },
  {
   "cell_type": "code",
   "execution_count": null,
   "metadata": {},
   "outputs": [],
   "source": []
  }
 ],
 "metadata": {
  "kernelspec": {
   "display_name": "Python 3.6.10 ('Pythondata')",
   "language": "python",
   "name": "python3"
  },
  "language_info": {
   "codemirror_mode": {
    "name": "ipython",
    "version": 3
   },
   "file_extension": ".py",
   "mimetype": "text/x-python",
   "name": "python",
   "nbconvert_exporter": "python",
   "pygments_lexer": "ipython3",
   "version": "3.6.10"
  },
  "vscode": {
   "interpreter": {
    "hash": "35fc9a0f95dc31633c4fee4c80771a59cf73a801e772266004d70b9ea82d1791"
   }
  }
 },
 "nbformat": 4,
 "nbformat_minor": 2
}
