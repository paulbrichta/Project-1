{
 "cells": [
  {
   "cell_type": "markdown",
   "metadata": {},
   "source": [
    "# Project 1\n",
    "\n",
    "The purpose of this notebook to prepare the DiscGolf and postcode_level_averages data for analysis.\n",
    "\n",
    "DiscGolf.csv was sourced from https://www.kaggle.com/datasets/lanekatris/pdga-united-states-disc-golf-courses\n",
    "\n",
    "postcode_level_averages was sourced from https://www.kaggle.com/datasets/hamishgunasekara/average-income-per-zip-code-usa-2018\n"
   ]
  },
  {
   "cell_type": "code",
   "execution_count": 2,
   "metadata": {},
   "outputs": [],
   "source": [
    "#Import dependencies\n",
    "import pandas as pd\n",
    "import numpy as np\n",
    "import matplotlib as plt\n",
    "import requests\n",
    "import json"
   ]
  },
  {
   "cell_type": "code",
   "execution_count": 11,
   "metadata": {},
   "outputs": [],
   "source": [
    "#read CSVs and create Pandas DataFrames\n",
    "discgolfdf = pd.DataFrame(pd.read_csv('Resources/DiscGolf.csv'))\n",
    "zipcodedf = pd.DataFrame(pd.read_csv('Resources/postcode_level_averages.csv'))"
   ]
  },
  {
   "cell_type": "code",
   "execution_count": 12,
   "metadata": {},
   "outputs": [
    {
     "data": {
      "text/html": [
       "<div>\n",
       "<style scoped>\n",
       "    .dataframe tbody tr th:only-of-type {\n",
       "        vertical-align: middle;\n",
       "    }\n",
       "\n",
       "    .dataframe tbody tr th {\n",
       "        vertical-align: top;\n",
       "    }\n",
       "\n",
       "    .dataframe thead th {\n",
       "        text-align: right;\n",
       "    }\n",
       "</style>\n",
       "<table border=\"1\" class=\"dataframe\">\n",
       "  <thead>\n",
       "    <tr style=\"text-align: right;\">\n",
       "      <th></th>\n",
       "      <th>id</th>\n",
       "      <th>name</th>\n",
       "      <th>city</th>\n",
       "      <th>state</th>\n",
       "      <th>zip</th>\n",
       "      <th>holeCount</th>\n",
       "      <th>rating</th>\n",
       "      <th>latitude</th>\n",
       "      <th>longitude</th>\n",
       "    </tr>\n",
       "  </thead>\n",
       "  <tbody>\n",
       "    <tr>\n",
       "      <th>0</th>\n",
       "      <td>adventist-discovery-park</td>\n",
       "      <td>Adventist DISCovery Park</td>\n",
       "      <td>Opelika</td>\n",
       "      <td>Alabama</td>\n",
       "      <td>36804</td>\n",
       "      <td>3</td>\n",
       "      <td>NaN</td>\n",
       "      <td>32.645412</td>\n",
       "      <td>-85.378280</td>\n",
       "    </tr>\n",
       "    <tr>\n",
       "      <th>1</th>\n",
       "      <td>agape-disc-golf-course</td>\n",
       "      <td>Agape Disc Golf Course</td>\n",
       "      <td>Scottsboro</td>\n",
       "      <td>Alabama</td>\n",
       "      <td>35769</td>\n",
       "      <td>9</td>\n",
       "      <td>NaN</td>\n",
       "      <td>34.622819</td>\n",
       "      <td>-86.080692</td>\n",
       "    </tr>\n",
       "  </tbody>\n",
       "</table>\n",
       "</div>"
      ],
      "text/plain": [
       "                         id                      name         city    state  \\\n",
       "0  adventist-discovery-park  Adventist DISCovery Park     Opelika   Alabama   \n",
       "1    agape-disc-golf-course    Agape Disc Golf Course  Scottsboro   Alabama   \n",
       "\n",
       "     zip  holeCount  rating   latitude  longitude  \n",
       "0  36804          3     NaN  32.645412 -85.378280  \n",
       "1  35769          9     NaN  34.622819 -86.080692  "
      ]
     },
     "execution_count": 12,
     "metadata": {},
     "output_type": "execute_result"
    }
   ],
   "source": [
    "#check discgolfcsv MAJORITY OF COURSES HAVEN NAN RATING BUT DEFINITELY WANT TO KEEP THE DATA, CAN'T USE delete nan to clean up unless it's directed to a single column or all colunms but rating.  \n",
    "#OR change NaN to 0?\n",
    "discgolfdf.head(2)"
   ]
  },
  {
   "cell_type": "code",
   "execution_count": 18,
   "metadata": {},
   "outputs": [],
   "source": [
    "#check zipcol for missingresults\n",
    "\n",
    "\n",
    "zipcheck= [discgolfdf['zip']]\n"
   ]
  },
  {
   "cell_type": "code",
   "execution_count": 19,
   "metadata": {},
   "outputs": [
    {
     "data": {
      "text/plain": [
       "[0       36804\n",
       " 1       35769\n",
       " 2       35570\n",
       " 3       36830\n",
       " 4       35016\n",
       "         ...  \n",
       " 7003    25422\n",
       " 7004    25064\n",
       " 7005    25901\n",
       " 7006    25879\n",
       " 7007    26187\n",
       " Name: zip, Length: 7008, dtype: object]"
      ]
     },
     "execution_count": 19,
     "metadata": {},
     "output_type": "execute_result"
    }
   ],
   "source": [
    "zipcheck"
   ]
  },
  {
   "cell_type": "code",
   "execution_count": 9,
   "metadata": {},
   "outputs": [
    {
     "data": {
      "text/html": [
       "<div>\n",
       "<style scoped>\n",
       "    .dataframe tbody tr th:only-of-type {\n",
       "        vertical-align: middle;\n",
       "    }\n",
       "\n",
       "    .dataframe tbody tr th {\n",
       "        vertical-align: top;\n",
       "    }\n",
       "\n",
       "    .dataframe thead th {\n",
       "        text-align: right;\n",
       "    }\n",
       "</style>\n",
       "<table border=\"1\" class=\"dataframe\">\n",
       "  <thead>\n",
       "    <tr style=\"text-align: right;\">\n",
       "      <th></th>\n",
       "      <th>state</th>\n",
       "      <th>zipcode</th>\n",
       "      <th>total_pop</th>\n",
       "      <th>total_income</th>\n",
       "      <th>country</th>\n",
       "      <th>avg_income</th>\n",
       "    </tr>\n",
       "  </thead>\n",
       "  <tbody>\n",
       "    <tr>\n",
       "      <th>0</th>\n",
       "      <td>AK</td>\n",
       "      <td>0</td>\n",
       "      <td>345220</td>\n",
       "      <td>25354974</td>\n",
       "      <td>USA</td>\n",
       "      <td>73445.843230</td>\n",
       "    </tr>\n",
       "    <tr>\n",
       "      <th>1</th>\n",
       "      <td>AK</td>\n",
       "      <td>99501</td>\n",
       "      <td>7690</td>\n",
       "      <td>612242</td>\n",
       "      <td>USA</td>\n",
       "      <td>79615.344603</td>\n",
       "    </tr>\n",
       "  </tbody>\n",
       "</table>\n",
       "</div>"
      ],
      "text/plain": [
       "  state  zipcode  total_pop  total_income country    avg_income\n",
       "0    AK        0     345220      25354974     USA  73445.843230\n",
       "1    AK    99501       7690        612242     USA  79615.344603"
      ]
     },
     "execution_count": 9,
     "metadata": {},
     "output_type": "execute_result"
    }
   ],
   "source": [
    "#check zipcodecsv - FOR DATA CLEANUP \n",
    "zipcodedf.head(2)"
   ]
  },
  {
   "cell_type": "code",
   "execution_count": null,
   "metadata": {},
   "outputs": [],
   "source": [
    "# Create DraftMerge - inner join DiscGolfdf and zipcodedf\n"
   ]
  },
  {
   "cell_type": "code",
   "execution_count": null,
   "metadata": {},
   "outputs": [],
   "source": [
    "#export DraftMerge_DGolf_AvIncome to csv"
   ]
  }
 ],
 "metadata": {
  "kernelspec": {
   "display_name": "Python 3.6.10 ('pythondata')",
   "language": "python",
   "name": "python3"
  },
  "language_info": {
   "codemirror_mode": {
    "name": "ipython",
    "version": 3
   },
   "file_extension": ".py",
   "mimetype": "text/x-python",
   "name": "python",
   "nbconvert_exporter": "python",
   "pygments_lexer": "ipython3",
   "version": "3.6.10"
  },
  "orig_nbformat": 4,
  "vscode": {
   "interpreter": {
    "hash": "32936a4216d61df63605b73876ea010f181bff399334858af2650243d2b52135"
   }
  }
 },
 "nbformat": 4,
 "nbformat_minor": 2
}
