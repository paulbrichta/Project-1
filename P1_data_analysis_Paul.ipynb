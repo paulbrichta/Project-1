{
 "cells": [
  {
   "cell_type": "markdown",
   "metadata": {},
   "source": [
    "# Project 1\n",
    "\n",
    "The purpose of this notebook to document preliminary analyses of DiscGolf to average income.\n",
    "\n",
    "DiscGolf.csv was sourced from https://www.kaggle.com/datasets/lanekatris/pdga-united-states-disc-golf-courses\n",
    "\n",
    "postcode_level_averages was sourced from https://www.kaggle.com/datasets/hamishgunasekara/average-income-per-zip-code-usa-2018\n",
    "\n",
    "Data joined and saved to the Resources folder as \"draft_dgolf_avincome.csv\"\n"
   ]
  },
  {
   "cell_type": "code",
   "execution_count": null,
   "metadata": {},
   "outputs": [],
   "source": [
    "#Import dependencies\n",
    "import pandas as pd\n",
    "import numpy as np\n",
    "import matplotlib.pyplot as plt\n",
    "import requests\n",
    "import json\n",
    "from scipy.stats import linregress\n",
    "import datetime"
   ]
  },
  {
   "cell_type": "code",
   "execution_count": null,
   "metadata": {},
   "outputs": [],
   "source": [
    "# #read CSV and create Pandas DataFrames\n",
    "# draft_df = pd.DataFrame(pd.read_csv('Resources/draft_dgolf_avincome.csv'))\n",
    "# draft_df.head()"
   ]
  },
  {
   "cell_type": "code",
   "execution_count": null,
   "metadata": {},
   "outputs": [],
   "source": [
    "# check df\n",
    "# draft_df.columns(\"Course ID\", \"Course Name\", \"City\", \"State\", \"Zip Code\", \"Hole Count\",\n",
    "#                  \"Rating\", \"Latitude\", \"Longitude\", \"Modified\", \"Comments\", \"State Abbreviation\",\n",
    "#                  \"Zip\", \"Total Population\", \"Total Income\", \"Country\", \"Average Income\")\n",
    "# draft_df"
   ]
  },
  {
   "cell_type": "code",
   "execution_count": null,
   "metadata": {},
   "outputs": [],
   "source": [
    "# bob = group_df['total_pop'].sum()\n",
    "# bob"
   ]
  },
  {
   "cell_type": "code",
   "execution_count": null,
   "metadata": {},
   "outputs": [],
   "source": [
    "# subdraft_df = draft_df.loc[draft_df['state_x']]\n",
    "# subdraft_df.head()"
   ]
  },
  {
   "cell_type": "code",
   "execution_count": null,
   "metadata": {},
   "outputs": [],
   "source": [
    "# #create summary by state:  of number of courses, total population, average income, course rating\n",
    "\n",
    "# subdraft_df = draft_df.loc['state_x','total_pop','avg_income','holeCount','rating']\n",
    "# # subdraftdf.head()\n",
    "# group_df = subdraft_df.groupby(['state_x'])\n",
    "\n",
    "# ltotpopX = pd.DataFrame(group_df['total_pop'].sum())\n",
    "# lavinc = group_df['avg_income'].mean()\n",
    "# lavholes = group_df['holeCount'].mean()\n",
    "# lavrating = group_df['rating'].mean()\n",
    "# ltotcourses = group_df['holeCount'].count()\n",
    "\n",
    "# # totpop = pd.DataFrame(ltotpop).transpose()\n",
    "# # avinc = pd.DataFrame(lavinc).transpose()\n",
    "# # avholes = pd.DataFrame(lavholes).transpose()\n",
    "# # avrating = pd.DataFrame(lavrating).transpose()\n",
    "# # totcourses = pd.DataFrame(ltotcourses).transpose()\n",
    "\n",
    "# # merge12 = pd.merge(totpop,avinc,on='state_x')\n",
    "# # merge34 = pd.merge(avholes,avrating,on='state_x')\n",
    "# # merge12nmore = pd.merge(merge12,totcourses,on='state_x').rename(columns = {\"holeCount\":\"n_courses\"})\n",
    "# # merge12nmore\n",
    "# # mergeall = pd.merge(merge12nmore,merge34,on='state_x')\n",
    "# # mergeall.head()"
   ]
  },
  {
   "cell_type": "code",
   "execution_count": null,
   "metadata": {},
   "outputs": [],
   "source": [
    "# ltotpopX"
   ]
  },
  {
   "cell_type": "code",
   "execution_count": null,
   "metadata": {},
   "outputs": [],
   "source": [
    "# mergeallsort = mergeall.sort_values('n_courses',ascending= False)\n",
    "# mergeallsort"
   ]
  },
  {
   "cell_type": "code",
   "execution_count": null,
   "metadata": {},
   "outputs": [],
   "source": [
    "# mergeall.plot.scatter(x = 'n_courses',y = 'total_pop',s = 50)"
   ]
  },
  {
   "cell_type": "code",
   "execution_count": null,
   "metadata": {},
   "outputs": [],
   "source": [
    "# mergeall.plot.scatter(x = 'n_courses',y = 'avg_income',s = 50)"
   ]
  },
  {
   "cell_type": "code",
   "execution_count": null,
   "metadata": {},
   "outputs": [],
   "source": [
    "# mergeall.plot.scatter(x = 'n_courses', y = 'rating',s = 50)"
   ]
  },
  {
   "cell_type": "code",
   "execution_count": null,
   "metadata": {},
   "outputs": [],
   "source": [
    "# #create a scatterplot function\n",
    "# # df = 'mergeall'\n",
    "# # datasetID = 'DiscGolf'\n",
    "# # xparam = 'ltotcourses'\n",
    "# # yparam = 'ltotpop'\n",
    "# # yunits = 'state_pop'\n",
    "# fcolor = 'lightblue'\n",
    "# ecolor = 'mediumblue'\n",
    "\n",
    "# #some color options mistyrose and maroon,seashell  and saddlebrown,honeydew and forestgreen,lightblue and meduimblue\n",
    "# #https://matplotlib.org/stable/gallery/color/named_colors.html\n",
    "# # x_value = []\n",
    "# # y_value = []\n",
    "\n",
    "# def LRPlots(x_value, y_value, x_label, y_label):\n",
    "#     plt.scatter(x_value, y_value, marker=\"o\", facecolors=fcolor, edgecolors=ecolor, s=30, alpha=0.75)\n",
    "#     plt.title(f\"{x_value} vs. {y_value}\")\n",
    "#     plt.xlabel(x_label)\n",
    "#     plt.ylabel(y_label)\n",
    "#     plt.grid(True)\n",
    "    \n",
    "#     (slope, intercept, rvalue, pvalue, stderr) = linregress(x_value, y_value)\n",
    "#     line_eq = \"y = \" + str(round(slope,2)) + \"x + \" + str(round(intercept,2))\n",
    "    \n",
    "#     regress_values = x_value * slope + intercept\n",
    "    \n",
    "#     plt.plot(x_value, regress_values, \"r-\")\n",
    "    \n",
    "#     plt.annotate(line_eq, (x_value.mean(), y_value.mean()), fontsize=15, color=\"red\")\n",
    "    \n",
    "#     print(f\"The r-value is: {rvalue}\")\n",
    "    \n",
    "    \n",
    "    \n",
    "# #     xdata = mergeallsort[xparam]\n",
    "# #     ydata = mergeallsort[yparam]\n",
    "\n",
    "# #     (slope, intercept, rvalue, pvalue, stderr) = linregress(xdata, ydata)\n",
    "# #     regress_values = xdata * slope + intercept\n",
    "# #     line_eq = \"y = \" + str(round(slope,2)) + \"x + \" + str(round(intercept,2))\n",
    "\n",
    "# #     plt.figure(figsize = (9,7))\n",
    "# #     plt.scatter(xdata, ydata, marker=\"o\", facecolors=fcolor, edgecolors=ecolor,s =75)\n",
    "\n",
    "# #     # plt.xlim(-55,85)\n",
    "# #     # plt.ylim(0,105)\n",
    "# #     annotatex = min(xdata)+0.1*max(xdata)\n",
    "# #     annotatey = max(ydata)-0.1*max(ydata)\n",
    "\n",
    "# #     plt.plot(xdata,regress_values,\"darkslategray\")\n",
    "# #     plt.annotate(f'{line_eq} r={round(rvalue,2)}',(annotatex,annotatey),fontsize=15,color=\"black\")\n",
    "    \n",
    "# #     plt.title(f\"{xparam} vs. {yparam}\")\n",
    "# #     plt.xlabel(f\"{xparam}\")\n",
    "# #     plt.ylabel(f\"{yparam} {yunits}\")\n",
    "# #     plt.grid()\n",
    "    \n",
    "# #     print(f'The r-value is {round(rvalue,2)}')\n",
    "\n",
    "# #     # Save the figure\n",
    "# #     figname = f'{datasetID}_{xparam}_vs_{yparam}'\n",
    "    \n",
    "# #     plt.savefig(f\"output_data/{figname}.png\")\n",
    "\n",
    "# #     # Show plot\n",
    "#     # plt.show()\n",
    "\n",
    "# LRPlots(avinc, totcourses, \"Average Income\", \"Total Courses\")"
   ]
  },
  {
   "cell_type": "code",
   "execution_count": null,
   "metadata": {},
   "outputs": [],
   "source": [
    "# scatter plot of state population vs number of disc golf courses"
   ]
  },
  {
   "cell_type": "code",
   "execution_count": null,
   "metadata": {},
   "outputs": [],
   "source": [
    "# scatter plot of state average income vs number of disc golf courses"
   ]
  },
  {
   "cell_type": "code",
   "execution_count": null,
   "metadata": {},
   "outputs": [],
   "source": [
    "# #My  Define a function to create Linear Regression plots\n",
    "# # Columns ['City', 'Lat', 'Lng', 'Max Temp', 'Humidity', 'Cloudiness','Wind Speed', 'Country', 'Date'],\n",
    "# # Max Temp units (Celsius), Humidity units (%), Cloudiness units (%) Wind Speed (m/s)\n",
    "\n",
    "# datasetID = 'DiscGolf'\n",
    "# xparam = 'Lat'\n",
    "# yparam = 'Wind Speed'\n",
    "# yunits = '(m/s)'\n",
    "# fcolor = 'lightblue'\n",
    "# ecolor = 'mediumblue'\n",
    "\n",
    "# #some color options mistyrose and maroon,seashell  and saddlebrown,honeydew and forestgreen,lightblue and meduimblue\n",
    "# #https://matplotlib.org/stable/gallery/color/named_colors.html\n",
    "\n",
    "\n",
    "# def LRPlots():\n",
    "#     xdata = df[xparam]\n",
    "#     ydata = df[yparam]\n",
    "\n",
    "#     (slope, intercept, rvalue, pvalue, stderr) = linregress(xdata, ydata)\n",
    "#     regress_values = xdata * slope + intercept\n",
    "#     line_eq = \"y = \" + str(round(slope,2)) + \"x + \" + str(round(intercept,2))\n",
    "\n",
    "#     plt.figure(figsize = (9,7))\n",
    "#     plt.scatter(xdata, ydata, marker=\"o\", facecolors=fcolor, edgecolors=ecolor,s =75)\n",
    "\n",
    "#     # plt.xlim(-55,85)\n",
    "#     # plt.ylim(0,105)\n",
    "#     annotatex = min(xdata)+0.1*max(xdata)\n",
    "#     annotatey = max(ydata)-0.1*max(ydata)\n",
    "\n",
    "#     plt.plot(xdata,regress_values,\"darkslategray\")\n",
    "#     plt.annotate(f'{line_eq} r={round(rvalue,2)}',(annotatex,annotatey),fontsize=15,color=\"black\")\n",
    "    \n",
    "\n",
    "#     plt.title(f\"City Latitude vs. {yparam} ({datedatapull})\")\n",
    "#     plt.xlabel(\"Latitude\")\n",
    "#     plt.ylabel(f\"[{yparam} {yunits}]\")\n",
    "#     plt.grid()\n",
    "\n",
    "\n",
    "    \n",
    "#     print(f'The r-value is {round(rvalue,2)}')\n",
    "\n",
    "   \n",
    "\n",
    "#     # Save the figure\n",
    "#     figname = f'{datasetID}_{xparam}_vs_{yparam}'\n",
    "    \n",
    "#     plt.savefig(f\"output_data/{figname}.png\")\n",
    "\n",
    "#     # Show plot\n",
    "#     plt.show()\n",
    "\n",
    "# LRPlots()"
   ]
  },
  {
   "cell_type": "code",
   "execution_count": null,
   "metadata": {},
   "outputs": [],
   "source": [
    "# #Disc Golf update zip so dtype is int64 instead of object so we can merge the two dfs\n",
    "\n",
    "# discgolfdf2 = discgolfdf.dropna(subset = ['zip'])\n",
    "# discgolfdf2sort = discgolfdf2.sort_values('zip')\n",
    "# discgolfdf2sort"
   ]
  },
  {
   "cell_type": "code",
   "execution_count": null,
   "metadata": {},
   "outputs": [],
   "source": [
    "# discgolf drop zip NaN  DROP NA DOESN'T WORK BECAUSE IT'S NOT NA,\n",
    "#    sort doesn't work because it doesn't sort them at the beginning or end.  \n",
    "# DiscGolfClean = manually edited disc golf csv to fix zips,\n",
    "#    added Modified column (no,yes) and Comment column (none, or modification info)"
   ]
  },
  {
   "cell_type": "code",
   "execution_count": null,
   "metadata": {},
   "outputs": [],
   "source": [
    "# discgolfcleandf.head()"
   ]
  },
  {
   "cell_type": "code",
   "execution_count": null,
   "metadata": {},
   "outputs": [],
   "source": [
    "# discgolfcleandf.dtypes"
   ]
  },
  {
   "cell_type": "code",
   "execution_count": null,
   "metadata": {},
   "outputs": [],
   "source": [
    "# #check zipcodecsv \n",
    "# zipcodedf.head(2)"
   ]
  },
  {
   "cell_type": "code",
   "execution_count": null,
   "metadata": {},
   "outputs": [],
   "source": [
    "# zipcodedf.dtypes"
   ]
  },
  {
   "cell_type": "code",
   "execution_count": null,
   "metadata": {},
   "outputs": [],
   "source": [
    "# #Create DraftMerge - inner join DiscGolfcleandf and zipcodedf\n",
    "# #nice reference https://www.shanelynn.ie/merge-join-dataframes-python-pandas-index-1/\n",
    "# draft_dgolf_avincome = pd.merge(discgolfcleandf,zipcodedf,how = 'inner',left_on='zip',right_on='zipcode')\n",
    "# draft_dgolf_avincome.head()"
   ]
  },
  {
   "cell_type": "code",
   "execution_count": null,
   "metadata": {},
   "outputs": [],
   "source": [
    "# #export draft_dgolf_avincome to csv\n",
    "# draft_dgolf_avincome.to_csv('Resources/draft_dgolf_avincome.csv')"
   ]
  },
  {
   "cell_type": "markdown",
   "metadata": {},
   "source": [
    "# Paul's Graphs"
   ]
  },
  {
   "cell_type": "code",
   "execution_count": null,
   "metadata": {},
   "outputs": [],
   "source": [
    "# Create a mini Data Frame that contains the Name of the County, Median Income (for that county),\n",
    "# Population Density (for that county), and Total Courses (in that county)\n",
    "#\n",
    "#    for county in area n_courses.sum()\n",
    "#\n",
    "# the mini data frame will have each county in the midwest region (12 states) in the rows\n",
    "# and 4 columns: area_name, median_income, population_density, and total_courses"
   ]
  },
  {
   "cell_type": "code",
   "execution_count": null,
   "metadata": {},
   "outputs": [],
   "source": [
    "# Create Scatter Plot Median Income (county) vs Total Courses (county)\n",
    "# Linear Regression line (x = median income, y = total courses)"
   ]
  },
  {
   "cell_type": "code",
   "execution_count": null,
   "metadata": {},
   "outputs": [],
   "source": [
    "# Create Scatter Plot Population Density (county) vs Total Courses (county)\n",
    "# Linear Regression line (x = population density, y = total courses)"
   ]
  }
 ],
 "metadata": {
  "kernelspec": {
   "display_name": "Python [conda env:pythondata] *",
   "language": "python",
   "name": "conda-env-pythondata-py"
  },
  "language_info": {
   "codemirror_mode": {
    "name": "ipython",
    "version": 3
   },
   "file_extension": ".py",
   "mimetype": "text/x-python",
   "name": "python",
   "nbconvert_exporter": "python",
   "pygments_lexer": "ipython3",
   "version": "3.6.13"
  },
  "vscode": {
   "interpreter": {
    "hash": "32936a4216d61df63605b73876ea010f181bff399334858af2650243d2b52135"
   }
  }
 },
 "nbformat": 4,
 "nbformat_minor": 2
}
