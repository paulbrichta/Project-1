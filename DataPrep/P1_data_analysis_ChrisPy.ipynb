{
 "cells": [
  {
   "cell_type": "code",
   "execution_count": 2,
   "metadata": {},
   "outputs": [],
   "source": [
    "#Import dependencies\n",
    "import pandas as pd\n",
    "import numpy as np\n",
    "import matplotlib as plt\n",
    "import requests\n",
    "import json\n",
    "from scipy.stats import linregress\n",
    "import datetime"
   ]
  },
  {
   "cell_type": "code",
   "execution_count": 4,
   "metadata": {},
   "outputs": [
    {
     "data": {
      "text/html": [
       "<div>\n",
       "<style scoped>\n",
       "    .dataframe tbody tr th:only-of-type {\n",
       "        vertical-align: middle;\n",
       "    }\n",
       "\n",
       "    .dataframe tbody tr th {\n",
       "        vertical-align: top;\n",
       "    }\n",
       "\n",
       "    .dataframe thead th {\n",
       "        text-align: right;\n",
       "    }\n",
       "</style>\n",
       "<table border=\"1\" class=\"dataframe\">\n",
       "  <thead>\n",
       "    <tr style=\"text-align: right;\">\n",
       "      <th></th>\n",
       "      <th>state_x</th>\n",
       "      <th>total_pop</th>\n",
       "      <th>avg_income</th>\n",
       "      <th>n_courses</th>\n",
       "      <th>holeCount</th>\n",
       "      <th>rating</th>\n",
       "    </tr>\n",
       "  </thead>\n",
       "  <tbody>\n",
       "    <tr>\n",
       "      <th>0</th>\n",
       "      <td>Alabama</td>\n",
       "      <td>970510</td>\n",
       "      <td>60129.955845</td>\n",
       "      <td>121</td>\n",
       "      <td>15.438017</td>\n",
       "      <td>3.673913</td>\n",
       "    </tr>\n",
       "    <tr>\n",
       "      <th>1</th>\n",
       "      <td>Alaska</td>\n",
       "      <td>288780</td>\n",
       "      <td>74791.929935</td>\n",
       "      <td>31</td>\n",
       "      <td>13.451613</td>\n",
       "      <td>3.692308</td>\n",
       "    </tr>\n",
       "    <tr>\n",
       "      <th>2</th>\n",
       "      <td>Arizona</td>\n",
       "      <td>994820</td>\n",
       "      <td>63961.727080</td>\n",
       "      <td>71</td>\n",
       "      <td>13.887324</td>\n",
       "      <td>3.410256</td>\n",
       "    </tr>\n",
       "    <tr>\n",
       "      <th>3</th>\n",
       "      <td>Arkansas</td>\n",
       "      <td>886250</td>\n",
       "      <td>55399.123422</td>\n",
       "      <td>109</td>\n",
       "      <td>13.981651</td>\n",
       "      <td>3.789474</td>\n",
       "    </tr>\n",
       "    <tr>\n",
       "      <th>4</th>\n",
       "      <td>California</td>\n",
       "      <td>4093380</td>\n",
       "      <td>75793.617001</td>\n",
       "      <td>309</td>\n",
       "      <td>14.239482</td>\n",
       "      <td>3.280000</td>\n",
       "    </tr>\n",
       "  </tbody>\n",
       "</table>\n",
       "</div>"
      ],
      "text/plain": [
       "      state_x  total_pop    avg_income  n_courses  holeCount    rating\n",
       "0     Alabama     970510  60129.955845        121  15.438017  3.673913\n",
       "1      Alaska     288780  74791.929935         31  13.451613  3.692308\n",
       "2     Arizona     994820  63961.727080         71  13.887324  3.410256\n",
       "3    Arkansas     886250  55399.123422        109  13.981651  3.789474\n",
       "4  California    4093380  75793.617001        309  14.239482  3.280000"
      ]
     },
     "execution_count": 4,
     "metadata": {},
     "output_type": "execute_result"
    }
   ],
   "source": [
    "#read CSV and create Pandas DataFrames\n",
    "statesum = pd.DataFrame(pd.read_csv('Resources/draft_dgolf_statesummary.csv'))\n",
    "statesum.head()"
   ]
  },
  {
   "cell_type": "code",
   "execution_count": null,
   "metadata": {},
   "outputs": [],
   "source": []
  }
 ],
 "metadata": {
  "kernelspec": {
   "display_name": "Python 3.6.10 ('pythondata')",
   "language": "python",
   "name": "python3"
  },
  "language_info": {
   "codemirror_mode": {
    "name": "ipython",
    "version": 3
   },
   "file_extension": ".py",
   "mimetype": "text/x-python",
   "name": "python",
   "nbconvert_exporter": "python",
   "pygments_lexer": "ipython3",
   "version": "3.6.10"
  },
  "orig_nbformat": 4,
  "vscode": {
   "interpreter": {
    "hash": "32936a4216d61df63605b73876ea010f181bff399334858af2650243d2b52135"
   }
  }
 },
 "nbformat": 4,
 "nbformat_minor": 2
}
